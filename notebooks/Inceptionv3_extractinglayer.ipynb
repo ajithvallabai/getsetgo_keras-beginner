{
  "nbformat": 4,
  "nbformat_minor": 0,
  "metadata": {
    "colab": {
      "name": "Copy of Inceptionv3_extractinglayer.ipynb",
      "version": "0.3.2",
      "views": {},
      "default_view": {},
      "provenance": [
        {
          "file_id": "1JF02WB6fbyYgMJszGFizN92wBRrguT52",
          "timestamp": 1524075045559
        }
      ],
      "collapsed_sections": []
    },
    "kernelspec": {
      "name": "python3",
      "display_name": "Python 3"
    }
  },
  "cells": [
    {
      "metadata": {
        "id": "-djjsG1ksblm",
        "colab_type": "code",
        "colab": {
          "autoexec": {
            "startup": false,
            "wait_interval": 0
          }
        }
      },
      "cell_type": "code",
      "source": [
        "#lineone:InceptionV3 model is used avgpool layer (last before layer) of the architecture is extracted and used for prediction\n",
        "#http://image-net.org/about-stats\n",
        "#https://arxiv.org/abs/1409.1556\n",
        "#default input size for model is 299x299\n",
        "#below code has been tested and executed only in colab.research.google.com .Please make sure you have enabled GPU from notebook settings before execution"
      ],
      "execution_count": 0,
      "outputs": []
    },
    {
      "metadata": {
        "id": "9Luvp--Qm2QU",
        "colab_type": "code",
        "colab": {
          "autoexec": {
            "startup": false,
            "wait_interval": 0
          },
          "base_uri": "https://localhost:8080/",
          "height": 34
        },
        "outputId": "5588cd80-b365-4c21-9d1f-d5f56888fa8f",
        "executionInfo": {
          "status": "ok",
          "timestamp": 1524078966683,
          "user_tz": -330,
          "elapsed": 1586,
          "user": {
            "displayName": "Ajith",
            "photoUrl": "//lh3.googleusercontent.com/-rmoCOltBBco/AAAAAAAAAAI/AAAAAAAAAvY/hCwpnR_j61g/s50-c-k-no/photo.jpg",
            "userId": "116572676147837248204"
          }
        }
      },
      "cell_type": "code",
      "source": [
        "#make sure you are importing preprocess_input and decode_predictions from inceptionv3 model\n",
        "from keras.applications.inception_v3 import InceptionV3\n",
        "from keras.layers import Input\n",
        "from keras.applications.inception_v3 import preprocess_input,decode_predictions\n",
        "from keras.preprocessing import image"
      ],
      "execution_count": 2,
      "outputs": [
        {
          "output_type": "stream",
          "text": [
            "Using TensorFlow backend.\n"
          ],
          "name": "stderr"
        }
      ]
    },
    {
      "metadata": {
        "id": "bxRQ-K7H9uh9",
        "colab_type": "code",
        "colab": {
          "autoexec": {
            "startup": false,
            "wait_interval": 0
          }
        }
      },
      "cell_type": "code",
      "source": [
        "#For visualising picture\n",
        "from matplotlib import pyplot as plt\n",
        "%matplotlib inline"
      ],
      "execution_count": 0,
      "outputs": []
    },
    {
      "metadata": {
        "id": "StmTFYugnRbr",
        "colab_type": "code",
        "colab": {
          "autoexec": {
            "startup": false,
            "wait_interval": 0
          }
        }
      },
      "cell_type": "code",
      "source": [
        "input_tensor=Input(shape=(299,299,3))\n",
        "#you can give custom input with input_tensor"
      ],
      "execution_count": 0,
      "outputs": []
    },
    {
      "metadata": {
        "id": "ndp20xKEnc77",
        "colab_type": "code",
        "colab": {
          "autoexec": {
            "startup": false,
            "wait_interval": 0
          }
        }
      },
      "cell_type": "code",
      "source": [
        "base_model=InceptionV3(input_tensor=input_tensor,weights='imagenet',include_top=True)"
      ],
      "execution_count": 0,
      "outputs": []
    },
    {
      "metadata": {
        "id": "lVDBnYazFXDl",
        "colab_type": "code",
        "colab": {
          "autoexec": {
            "startup": false,
            "wait_interval": 0
          }
        }
      },
      "cell_type": "code",
      "source": [
        "from keras.models import Model"
      ],
      "execution_count": 0,
      "outputs": []
    },
    {
      "metadata": {
        "id": "rRShxdCmFKnX",
        "colab_type": "code",
        "colab": {
          "autoexec": {
            "startup": false,
            "wait_interval": 0
          }
        }
      },
      "cell_type": "code",
      "source": [
        "#avg_pool\n",
        "model=Model(inputs=base_model.input,outputs=base_model.get_layer('avg_pool').output)"
      ],
      "execution_count": 0,
      "outputs": []
    },
    {
      "metadata": {
        "id": "GzM4CQKGnr5M",
        "colab_type": "code",
        "colab": {
          "autoexec": {
            "startup": false,
            "wait_interval": 0
          }
        }
      },
      "cell_type": "code",
      "source": [
        "#image is loaded from url\n",
        "#you can use imread to load loacally \n",
        "from urllib.request import urlopen"
      ],
      "execution_count": 0,
      "outputs": []
    },
    {
      "metadata": {
        "id": "JMrJeBLBoRYQ",
        "colab_type": "code",
        "colab": {
          "autoexec": {
            "startup": false,
            "wait_interval": 0
          }
        }
      },
      "cell_type": "code",
      "source": [
        "#url of the image is stored in url_link1\n",
        "#(299,299) is the target size of Inceptionv3 model\n",
        "urllink=urlopen(\"https://5.imimg.com/data5/OX/YI/MY-19292667/green-color-sharpener-500x500.jpg\")\n",
        "img=image.load_img(urllink,target_size=(299,299))\n",
        "import numpy as np"
      ],
      "execution_count": 0,
      "outputs": []
    },
    {
      "metadata": {
        "id": "SMHl8RU5oIDS",
        "colab_type": "code",
        "colab": {
          "autoexec": {
            "startup": false,
            "wait_interval": 0
          }
        }
      },
      "cell_type": "code",
      "source": [
        "#preprocessing input image\n",
        "x=image.img_to_array(img)\n",
        "x=np.expand_dims(x,axis=0)\n",
        "x=preprocess_input(x)"
      ],
      "execution_count": 0,
      "outputs": []
    },
    {
      "metadata": {
        "id": "OZQQVEhnF3av",
        "colab_type": "code",
        "colab": {
          "autoexec": {
            "startup": false,
            "wait_interval": 0
          }
        }
      },
      "cell_type": "code",
      "source": [
        "from keras.models import Sequential\n",
        "from keras.layers import Dense, Activation"
      ],
      "execution_count": 0,
      "outputs": []
    },
    {
      "metadata": {
        "id": "q59_lfraFwG0",
        "colab_type": "code",
        "colab": {
          "autoexec": {
            "startup": false,
            "wait_interval": 0
          }
        }
      },
      "cell_type": "code",
      "source": [
        "#sequential model is initialised with model2\n",
        "model2=Sequential()\n",
        "#fc1 layer is added in a sequential manner to model2\n",
        "model2.add(model)\n",
        "#adding softmax layer for prediction\n",
        "model2.add(Dense(1000,activation='softmax'))"
      ],
      "execution_count": 0,
      "outputs": []
    },
    {
      "metadata": {
        "id": "kzC5_ZocpSMA",
        "colab_type": "code",
        "colab": {
          "autoexec": {
            "startup": false,
            "wait_interval": 0
          }
        }
      },
      "cell_type": "code",
      "source": [
        "#input is provided to model to predict the class\n",
        "predictions=base_model.predict(x)"
      ],
      "execution_count": 0,
      "outputs": []
    },
    {
      "metadata": {
        "id": "ZdV7K9Q3paBT",
        "colab_type": "code",
        "colab": {
          "autoexec": {
            "startup": false,
            "wait_interval": 0
          },
          "base_uri": "https://localhost:8080/",
          "height": 34
        },
        "outputId": "2122a663-05f1-455b-ac73-5d9ff93a3167",
        "executionInfo": {
          "status": "ok",
          "timestamp": 1524079120865,
          "user_tz": -330,
          "elapsed": 832,
          "user": {
            "displayName": "Ajith",
            "photoUrl": "//lh3.googleusercontent.com/-rmoCOltBBco/AAAAAAAAAAI/AAAAAAAAAvY/hCwpnR_j61g/s50-c-k-no/photo.jpg",
            "userId": "116572676147837248204"
          }
        }
      },
      "cell_type": "code",
      "source": [
        "predictions.shape"
      ],
      "execution_count": 14,
      "outputs": [
        {
          "output_type": "execute_result",
          "data": {
            "text/plain": [
              "(1, 1000)"
            ]
          },
          "metadata": {
            "tags": []
          },
          "execution_count": 14
        }
      ]
    },
    {
      "metadata": {
        "id": "pHkoS6zHpc5i",
        "colab_type": "code",
        "colab": {
          "autoexec": {
            "startup": false,
            "wait_interval": 0
          },
          "base_uri": "https://localhost:8080/",
          "height": 34
        },
        "outputId": "8bac140f-6b38-44ab-c438-3af52210c294",
        "executionInfo": {
          "status": "ok",
          "timestamp": 1524079126363,
          "user_tz": -330,
          "elapsed": 1171,
          "user": {
            "displayName": "Ajith",
            "photoUrl": "//lh3.googleusercontent.com/-rmoCOltBBco/AAAAAAAAAAI/AAAAAAAAAvY/hCwpnR_j61g/s50-c-k-no/photo.jpg",
            "userId": "116572676147837248204"
          }
        }
      },
      "cell_type": "code",
      "source": [
        "#decode_predictions decodes the values of predict and provides the output\n",
        "print(\"predict:\",decode_predictions(predictions,top=2)[0])"
      ],
      "execution_count": 15,
      "outputs": [
        {
          "output_type": "stream",
          "text": [
            "predict: [('n03908714', 'pencil_sharpener', 0.9998223), ('n03908618', 'pencil_box', 9.05254e-06)]\n"
          ],
          "name": "stdout"
        }
      ]
    },
    {
      "metadata": {
        "id": "JWKRPWbyDtRM",
        "colab_type": "code",
        "colab": {
          "autoexec": {
            "startup": false,
            "wait_interval": 0
          }
        }
      },
      "cell_type": "code",
      "source": [
        "#predictions listed given image is a pencil_sharpner with highest probability and then pencil_box at next probability \n",
        "#you can also increase the number of predictions by increasing the values of top to 3,4.. in \"print(\"predict:\",decode_predictions(predictions,top=4))\"\""
      ],
      "execution_count": 0,
      "outputs": []
    }
  ]
}