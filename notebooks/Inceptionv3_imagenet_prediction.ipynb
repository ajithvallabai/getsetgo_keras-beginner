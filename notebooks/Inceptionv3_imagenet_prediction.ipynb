{
  "nbformat": 4,
  "nbformat_minor": 0,
  "metadata": {
    "colab": {
      "name": "Inceptionv3_prediction.ipynb",
      "version": "0.3.2",
      "views": {},
      "default_view": {},
      "provenance": [],
      "collapsed_sections": []
    },
    "kernelspec": {
      "name": "python3",
      "display_name": "Python 3"
    }
  },
  "cells": [
    {
      "metadata": {
        "id": "-djjsG1ksblm",
        "colab_type": "code",
        "colab": {
          "autoexec": {
            "startup": false,
            "wait_interval": 0
          }
        }
      },
      "cell_type": "code",
      "source": [
        "#lineone:InceptionV3 model is used to classify a image (given:url of a image)-(keras)\n",
        "#http://image-net.org/about-stats\n",
        "#https://arxiv.org/abs/1409.1556\n",
        "#default input size for model is 299x299\n",
        "#below code has been tested and executed only in colab.research.google.com .Please make sure you have enabled GPU from notebook settings before execution\n",
        "\n",
        "#mistakes made by me\n",
        "#gave input shape as (224,224) whereas default input shape of Inceptionv3 is (299,299)\n",
        "#used vggs keras.application.vgg instead of inceptionv3 here \"from keras.applications.inception_v3 import preprocess_input,decode_predictions\" "
      ],
      "execution_count": 0,
      "outputs": []
    },
    {
      "metadata": {
        "id": "9Luvp--Qm2QU",
        "colab_type": "code",
        "colab": {
          "autoexec": {
            "startup": false,
            "wait_interval": 0
          },
          "base_uri": "https://localhost:8080/",
          "height": 34
        },
        "outputId": "50e308fd-eb32-4cb6-96a7-3d79885675b7",
        "executionInfo": {
          "status": "ok",
          "timestamp": 1524059787455,
          "user_tz": -330,
          "elapsed": 1811,
          "user": {
            "displayName": "Ajith",
            "photoUrl": "//lh3.googleusercontent.com/-rmoCOltBBco/AAAAAAAAAAI/AAAAAAAAAvY/hCwpnR_j61g/s50-c-k-no/photo.jpg",
            "userId": "116572676147837248204"
          }
        }
      },
      "cell_type": "code",
      "source": [
        "#make sure you are importing preprocess_input and decode_predictions from inceptionv3 model\n",
        "from keras.applications.inception_v3 import InceptionV3\n",
        "from keras.layers import Input\n",
        "from keras.applications.inception_v3 import preprocess_input,decode_predictions\n",
        "from keras.preprocessing import image"
      ],
      "execution_count": 2,
      "outputs": [
        {
          "output_type": "stream",
          "text": [
            "Using TensorFlow backend.\n"
          ],
          "name": "stderr"
        }
      ]
    },
    {
      "metadata": {
        "id": "bxRQ-K7H9uh9",
        "colab_type": "code",
        "colab": {
          "autoexec": {
            "startup": false,
            "wait_interval": 0
          }
        }
      },
      "cell_type": "code",
      "source": [
        "#For visualising picture\n",
        "from matplotlib import pyplot as plt\n",
        "%matplotlib inline"
      ],
      "execution_count": 0,
      "outputs": []
    },
    {
      "metadata": {
        "id": "StmTFYugnRbr",
        "colab_type": "code",
        "colab": {
          "autoexec": {
            "startup": false,
            "wait_interval": 0
          }
        }
      },
      "cell_type": "code",
      "source": [
        "input_tensor=Input(shape=(299,299,3))\n",
        "#you can give custom input with input_tensor"
      ],
      "execution_count": 0,
      "outputs": []
    },
    {
      "metadata": {
        "id": "ndp20xKEnc77",
        "colab_type": "code",
        "colab": {
          "autoexec": {
            "startup": false,
            "wait_interval": 0
          },
          "base_uri": "https://localhost:8080/",
          "height": 51
        },
        "outputId": "3764f00a-4bab-4909-e8eb-dd2e90d8bb81",
        "executionInfo": {
          "status": "ok",
          "timestamp": 1524059827795,
          "user_tz": -330,
          "elapsed": 24885,
          "user": {
            "displayName": "Ajith",
            "photoUrl": "//lh3.googleusercontent.com/-rmoCOltBBco/AAAAAAAAAAI/AAAAAAAAAvY/hCwpnR_j61g/s50-c-k-no/photo.jpg",
            "userId": "116572676147837248204"
          }
        }
      },
      "cell_type": "code",
      "source": [
        "base_model=InceptionV3(input_tensor=input_tensor,weights='imagenet',include_top=True)"
      ],
      "execution_count": 6,
      "outputs": [
        {
          "output_type": "stream",
          "text": [
            "Downloading data from https://github.com/fchollet/deep-learning-models/releases/download/v0.5/inception_v3_weights_tf_dim_ordering_tf_kernels.h5\n",
            "96116736/96112376 [==============================] - 11s 0us/step\n"
          ],
          "name": "stdout"
        }
      ]
    },
    {
      "metadata": {
        "id": "GzM4CQKGnr5M",
        "colab_type": "code",
        "colab": {
          "autoexec": {
            "startup": false,
            "wait_interval": 0
          }
        }
      },
      "cell_type": "code",
      "source": [
        "#image is loaded from url\n",
        "#you can use imread to load loacally \n",
        "from urllib.request import urlopen"
      ],
      "execution_count": 0,
      "outputs": []
    },
    {
      "metadata": {
        "id": "JMrJeBLBoRYQ",
        "colab_type": "code",
        "colab": {
          "autoexec": {
            "startup": false,
            "wait_interval": 0
          }
        }
      },
      "cell_type": "code",
      "source": [
        "#url of the image is stored in url_link1\n",
        "#(299,299) is the target size of Inceptionv3 model\n",
        "urllink=urlopen(\"https://5.imimg.com/data5/OX/YI/MY-19292667/green-color-sharpener-500x500.jpg\")\n",
        "img=image.load_img(urllink,target_size=(299,299))\n",
        "import numpy as np"
      ],
      "execution_count": 0,
      "outputs": []
    },
    {
      "metadata": {
        "id": "SMHl8RU5oIDS",
        "colab_type": "code",
        "colab": {
          "autoexec": {
            "startup": false,
            "wait_interval": 0
          }
        }
      },
      "cell_type": "code",
      "source": [
        "#preprocessing input image\n",
        "x=image.img_to_array(img)\n",
        "x=np.expand_dims(x,axis=0)\n",
        "x=preprocess_input(x)"
      ],
      "execution_count": 0,
      "outputs": []
    },
    {
      "metadata": {
        "id": "kzC5_ZocpSMA",
        "colab_type": "code",
        "colab": {
          "autoexec": {
            "startup": false,
            "wait_interval": 0
          }
        }
      },
      "cell_type": "code",
      "source": [
        "#input is provided to model to predict the class\n",
        "predictions=base_model.predict(x)"
      ],
      "execution_count": 0,
      "outputs": []
    },
    {
      "metadata": {
        "id": "ZdV7K9Q3paBT",
        "colab_type": "code",
        "colab": {
          "autoexec": {
            "startup": false,
            "wait_interval": 0
          },
          "base_uri": "https://localhost:8080/",
          "height": 34
        },
        "outputId": "1b6709a6-476a-4666-98c8-d991287a496e",
        "executionInfo": {
          "status": "ok",
          "timestamp": 1524059928217,
          "user_tz": -330,
          "elapsed": 1204,
          "user": {
            "displayName": "Ajith",
            "photoUrl": "//lh3.googleusercontent.com/-rmoCOltBBco/AAAAAAAAAAI/AAAAAAAAAvY/hCwpnR_j61g/s50-c-k-no/photo.jpg",
            "userId": "116572676147837248204"
          }
        }
      },
      "cell_type": "code",
      "source": [
        "predictions.shape"
      ],
      "execution_count": 12,
      "outputs": [
        {
          "output_type": "execute_result",
          "data": {
            "text/plain": [
              "(1, 1000)"
            ]
          },
          "metadata": {
            "tags": []
          },
          "execution_count": 12
        }
      ]
    },
    {
      "metadata": {
        "id": "pHkoS6zHpc5i",
        "colab_type": "code",
        "colab": {
          "autoexec": {
            "startup": false,
            "wait_interval": 0
          },
          "base_uri": "https://localhost:8080/",
          "height": 34
        },
        "outputId": "00864490-fecc-45cf-c993-40a69d28619f",
        "executionInfo": {
          "status": "ok",
          "timestamp": 1524059930524,
          "user_tz": -330,
          "elapsed": 1168,
          "user": {
            "displayName": "Ajith",
            "photoUrl": "//lh3.googleusercontent.com/-rmoCOltBBco/AAAAAAAAAAI/AAAAAAAAAvY/hCwpnR_j61g/s50-c-k-no/photo.jpg",
            "userId": "116572676147837248204"
          }
        }
      },
      "cell_type": "code",
      "source": [
        "#decode_predictions decodes the values of predict and provides the output\n",
        "print(\"predict:\",decode_predictions(predictions,top=2)[0])"
      ],
      "execution_count": 13,
      "outputs": [
        {
          "output_type": "stream",
          "text": [
            "predict: [('n03908714', 'pencil_sharpener', 0.9998223), ('n03908618', 'pencil_box', 9.05254e-06)]\n"
          ],
          "name": "stdout"
        }
      ]
    },
    {
      "metadata": {
        "id": "JWKRPWbyDtRM",
        "colab_type": "code",
        "colab": {
          "autoexec": {
            "startup": false,
            "wait_interval": 0
          }
        }
      },
      "cell_type": "code",
      "source": [
        "#predictions listed given image is a pencil_sharpner with highest probability and then pencil_box at next probability \n",
        "#you can also increase the number of predictions by increasing the values of top to 3,4.. in \"print(\"predict:\",decode_predictions(predictions,top=4))\"\""
      ],
      "execution_count": 0,
      "outputs": []
    }
  ]
}