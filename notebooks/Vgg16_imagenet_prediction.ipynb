{
  "nbformat": 4,
  "nbformat_minor": 0,
  "metadata": {
    "colab": {
      "name": "Vgg16testfinal.ipynb",
      "version": "0.3.2",
      "views": {},
      "default_view": {},
      "provenance": [],
      "collapsed_sections": []
    },
    "kernelspec": {
      "name": "python3",
      "display_name": "Python 3"
    }
  },
  "cells": [
    {
      "metadata": {
        "id": "mQF7QC1ZTMn0",
        "colab_type": "code",
        "colab": {
          "autoexec": {
            "startup": false,
            "wait_interval": 0
          }
        }
      },
      "cell_type": "code",
      "source": [
        "#lineone:VGG16 model is used to classify a image (given: url of a image)-(keras)\n",
        "#http://image-net.org/about-stats\n",
        "#https://arxiv.org/pdf/1409.1556.pdf\n",
        "#below code has been tested and executed only in colab.research.google.com .For faster execution please make sure you have enabled GPU from notebook settings before execution"
      ],
      "execution_count": 0,
      "outputs": []
    },
    {
      "metadata": {
        "id": "Nn8AVGHLPHnb",
        "colab_type": "code",
        "colab": {
          "autoexec": {
            "startup": false,
            "wait_interval": 0
          },
          "base_uri": "https://localhost:8080/",
          "height": 34
        },
        "outputId": "ebdda056-5a3a-4192-bd45-093eccb7c885",
        "executionInfo": {
          "status": "ok",
          "timestamp": 1524042618553,
          "user_tz": -330,
          "elapsed": 2517,
          "user": {
            "displayName": "Ajith",
            "photoUrl": "//lh3.googleusercontent.com/-rmoCOltBBco/AAAAAAAAAAI/AAAAAAAAAvY/hCwpnR_j61g/s50-c-k-no/photo.jpg",
            "userId": "116572676147837248204"
          }
        }
      },
      "cell_type": "code",
      "source": [
        "#you are importing preprocess_input and decode_predictions from vgg16 model\n",
        "#remember each model has its own preprocess_input and decoding functions when you are replication this for other \n",
        "#models make sure you importing form respective model\n",
        "from keras.applications.vgg16 import VGG16\n",
        "from keras.preprocessing import image\n",
        "from keras.applications.vgg16 import preprocess_input, decode_predictions\n",
        "import numpy as np"
      ],
      "execution_count": 2,
      "outputs": [
        {
          "output_type": "stream",
          "text": [
            "Using TensorFlow backend.\n"
          ],
          "name": "stderr"
        }
      ]
    },
    {
      "metadata": {
        "id": "DP1hVg55H7GC",
        "colab_type": "code",
        "colab": {
          "autoexec": {
            "startup": false,
            "wait_interval": 0
          }
        }
      },
      "cell_type": "code",
      "source": [
        "#for visuvalizing picture\n",
        "from matplotlib import pyplot as plt\n",
        "%matplotlib inline"
      ],
      "execution_count": 0,
      "outputs": []
    },
    {
      "metadata": {
        "id": "Q3FqzRrOPeRI",
        "colab_type": "code",
        "colab": {
          "autoexec": {
            "startup": false,
            "wait_interval": 0
          },
          "base_uri": "https://localhost:8080/",
          "height": 51
        },
        "outputId": "61769c77-7ea7-45ef-8eea-f6311e4323d1",
        "executionInfo": {
          "status": "ok",
          "timestamp": 1524042633854,
          "user_tz": -330,
          "elapsed": 9773,
          "user": {
            "displayName": "Ajith",
            "photoUrl": "//lh3.googleusercontent.com/-rmoCOltBBco/AAAAAAAAAAI/AAAAAAAAAvY/hCwpnR_j61g/s50-c-k-no/photo.jpg",
            "userId": "116572676147837248204"
          }
        }
      },
      "cell_type": "code",
      "source": [
        "model=VGG16(weights='imagenet',include_top=True)\n",
        "#if you change include_top=False predict wont work "
      ],
      "execution_count": 4,
      "outputs": [
        {
          "output_type": "stream",
          "text": [
            "Downloading data from https://github.com/fchollet/deep-learning-models/releases/download/v0.1/vgg16_weights_tf_dim_ordering_tf_kernels.h5\n",
            "553467904/553467096 [==============================] - 6s 0us/step\n"
          ],
          "name": "stdout"
        }
      ]
    },
    {
      "metadata": {
        "id": "aNS36CWTPoMM",
        "colab_type": "code",
        "colab": {
          "autoexec": {
            "startup": false,
            "wait_interval": 0
          }
        }
      },
      "cell_type": "code",
      "source": [
        "#image is loaded from url\n",
        "#you can use imread to load loacally \n",
        "from urllib.request import urlopen"
      ],
      "execution_count": 0,
      "outputs": []
    },
    {
      "metadata": {
        "id": "E1x7AJq2QDAi",
        "colab_type": "code",
        "colab": {
          "autoexec": {
            "startup": false,
            "wait_interval": 0
          }
        }
      },
      "cell_type": "code",
      "source": [
        "#url of the image is stored in url_link\n",
        "urllink=urlopen(\"https://razzonline.com/wp-content/uploads/2017/07/an-elephant-.jpg\")"
      ],
      "execution_count": 0,
      "outputs": []
    },
    {
      "metadata": {
        "id": "-W5jAytGQSGu",
        "colab_type": "code",
        "colab": {
          "autoexec": {
            "startup": false,
            "wait_interval": 0
          }
        }
      },
      "cell_type": "code",
      "source": [
        "#(224,224) is the target size of VGG16 model\n",
        "img=image.load_img(urllink,target_size=(224,224))\n"
      ],
      "execution_count": 0,
      "outputs": []
    },
    {
      "metadata": {
        "id": "XYNvVI0MQkYH",
        "colab_type": "code",
        "colab": {
          "autoexec": {
            "startup": false,
            "wait_interval": 0
          }
        }
      },
      "cell_type": "code",
      "source": [
        "#preprocessing input image\n",
        "x=image.img_to_array(img)\n",
        "x=np.expand_dims(x,axis=0)\n",
        "x=preprocess_input(x)"
      ],
      "execution_count": 0,
      "outputs": []
    },
    {
      "metadata": {
        "id": "vEYmPA9wQwO-",
        "colab_type": "code",
        "colab": {
          "autoexec": {
            "startup": false,
            "wait_interval": 0
          }
        }
      },
      "cell_type": "code",
      "source": [
        "#input is provided to model to predict the class\n",
        "prediction=model.predict(x)"
      ],
      "execution_count": 0,
      "outputs": []
    },
    {
      "metadata": {
        "id": "GsvY9qgESg8H",
        "colab_type": "code",
        "colab": {
          "autoexec": {
            "startup": false,
            "wait_interval": 0
          },
          "base_uri": "https://localhost:8080/",
          "height": 34
        },
        "outputId": "dd918aec-6f03-4e74-f91c-384bd19e3e73",
        "executionInfo": {
          "status": "ok",
          "timestamp": 1524042671743,
          "user_tz": -330,
          "elapsed": 1148,
          "user": {
            "displayName": "Ajith",
            "photoUrl": "//lh3.googleusercontent.com/-rmoCOltBBco/AAAAAAAAAAI/AAAAAAAAAvY/hCwpnR_j61g/s50-c-k-no/photo.jpg",
            "userId": "116572676147837248204"
          }
        }
      },
      "cell_type": "code",
      "source": [
        "#prediction should be in shape(1,1000) in order to be decoded\n",
        "prediction.shape"
      ],
      "execution_count": 10,
      "outputs": [
        {
          "output_type": "execute_result",
          "data": {
            "text/plain": [
              "(1, 1000)"
            ]
          },
          "metadata": {
            "tags": []
          },
          "execution_count": 10
        }
      ]
    },
    {
      "metadata": {
        "id": "ABekVKKqRJhB",
        "colab_type": "code",
        "colab": {
          "autoexec": {
            "startup": false,
            "wait_interval": 0
          },
          "base_uri": "https://localhost:8080/",
          "height": 68
        },
        "outputId": "e4edf48c-06fe-4087-fd99-7ca1c0d66c58",
        "executionInfo": {
          "status": "ok",
          "timestamp": 1524042675817,
          "user_tz": -330,
          "elapsed": 2000,
          "user": {
            "displayName": "Ajith",
            "photoUrl": "//lh3.googleusercontent.com/-rmoCOltBBco/AAAAAAAAAAI/AAAAAAAAAvY/hCwpnR_j61g/s50-c-k-no/photo.jpg",
            "userId": "116572676147837248204"
          }
        }
      },
      "cell_type": "code",
      "source": [
        "#decode_predictions decodes the values of pred1 and provides the output\n",
        "print(\"predict :\",decode_predictions(prediction,top=3)[0])"
      ],
      "execution_count": 11,
      "outputs": [
        {
          "output_type": "stream",
          "text": [
            "Downloading data from https://s3.amazonaws.com/deep-learning-models/image-models/imagenet_class_index.json\n",
            "40960/35363 [==================================] - 0s 1us/step\n",
            "predict : [('n02504458', 'African_elephant', 0.65472627), ('n01871265', 'tusker', 0.29417086), ('n02504013', 'Indian_elephant', 0.047701556)]\n"
          ],
          "name": "stdout"
        }
      ]
    },
    {
      "metadata": {
        "id": "KF1hy96lZ8EL",
        "colab_type": "code",
        "colab": {
          "autoexec": {
            "startup": false,
            "wait_interval": 0
          },
          "base_uri": "https://localhost:8080/",
          "height": 918
        },
        "outputId": "b153c615-36cd-446d-8cb2-0ebaed1dd67f",
        "executionInfo": {
          "status": "ok",
          "timestamp": 1524042688274,
          "user_tz": -330,
          "elapsed": 2672,
          "user": {
            "displayName": "Ajith",
            "photoUrl": "//lh3.googleusercontent.com/-rmoCOltBBco/AAAAAAAAAAI/AAAAAAAAAvY/hCwpnR_j61g/s50-c-k-no/photo.jpg",
            "userId": "116572676147837248204"
          }
        }
      },
      "cell_type": "code",
      "source": [
        "#This is the VGG model which we used - a text based description\n",
        "model.summary()"
      ],
      "execution_count": 12,
      "outputs": [
        {
          "output_type": "stream",
          "text": [
            "_________________________________________________________________\n",
            "Layer (type)                 Output Shape              Param #   \n",
            "=================================================================\n",
            "input_1 (InputLayer)         (None, 224, 224, 3)       0         \n",
            "_________________________________________________________________\n",
            "block1_conv1 (Conv2D)        (None, 224, 224, 64)      1792      \n",
            "_________________________________________________________________\n",
            "block1_conv2 (Conv2D)        (None, 224, 224, 64)      36928     \n",
            "_________________________________________________________________\n",
            "block1_pool (MaxPooling2D)   (None, 112, 112, 64)      0         \n",
            "_________________________________________________________________\n",
            "block2_conv1 (Conv2D)        (None, 112, 112, 128)     73856     \n",
            "_________________________________________________________________\n",
            "block2_conv2 (Conv2D)        (None, 112, 112, 128)     147584    \n",
            "_________________________________________________________________\n",
            "block2_pool (MaxPooling2D)   (None, 56, 56, 128)       0         \n",
            "_________________________________________________________________\n",
            "block3_conv1 (Conv2D)        (None, 56, 56, 256)       295168    \n",
            "_________________________________________________________________\n",
            "block3_conv2 (Conv2D)        (None, 56, 56, 256)       590080    \n",
            "_________________________________________________________________\n",
            "block3_conv3 (Conv2D)        (None, 56, 56, 256)       590080    \n",
            "_________________________________________________________________\n",
            "block3_pool (MaxPooling2D)   (None, 28, 28, 256)       0         \n",
            "_________________________________________________________________\n",
            "block4_conv1 (Conv2D)        (None, 28, 28, 512)       1180160   \n",
            "_________________________________________________________________\n",
            "block4_conv2 (Conv2D)        (None, 28, 28, 512)       2359808   \n",
            "_________________________________________________________________\n",
            "block4_conv3 (Conv2D)        (None, 28, 28, 512)       2359808   \n",
            "_________________________________________________________________\n",
            "block4_pool (MaxPooling2D)   (None, 14, 14, 512)       0         \n",
            "_________________________________________________________________\n",
            "block5_conv1 (Conv2D)        (None, 14, 14, 512)       2359808   \n",
            "_________________________________________________________________\n",
            "block5_conv2 (Conv2D)        (None, 14, 14, 512)       2359808   \n",
            "_________________________________________________________________\n",
            "block5_conv3 (Conv2D)        (None, 14, 14, 512)       2359808   \n",
            "_________________________________________________________________\n",
            "block5_pool (MaxPooling2D)   (None, 7, 7, 512)         0         \n",
            "_________________________________________________________________\n",
            "flatten (Flatten)            (None, 25088)             0         \n",
            "_________________________________________________________________\n",
            "fc1 (Dense)                  (None, 4096)              102764544 \n",
            "_________________________________________________________________\n",
            "fc2 (Dense)                  (None, 4096)              16781312  \n",
            "_________________________________________________________________\n",
            "predictions (Dense)          (None, 1000)              4097000   \n",
            "=================================================================\n",
            "Total params: 138,357,544\n",
            "Trainable params: 138,357,544\n",
            "Non-trainable params: 0\n",
            "_________________________________________________________________\n"
          ],
          "name": "stdout"
        }
      ]
    }
  ]
}