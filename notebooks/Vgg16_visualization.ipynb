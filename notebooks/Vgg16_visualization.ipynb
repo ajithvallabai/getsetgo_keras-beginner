{
  "nbformat": 4,
  "nbformat_minor": 0,
  "metadata": {
    "colab": {
      "name": "VisualVgg16testfinal.ipynb",
      "version": "0.3.2",
      "views": {},
      "default_view": {},
      "provenance": [
        {
          "file_id": "1IsrfU8CoMXHCVltMry55O0huzbm3qbe1",
          "timestamp": 1524042920717
        }
      ],
      "collapsed_sections": []
    },
    "kernelspec": {
      "name": "python3",
      "display_name": "Python 3"
    }
  },
  "cells": [
    {
      "metadata": {
        "id": "mQF7QC1ZTMn0",
        "colab_type": "code",
        "colab": {
          "autoexec": {
            "startup": false,
            "wait_interval": 0
          }
        }
      },
      "cell_type": "code",
      "source": [
        "#lineone:Visualizing VGG16 model \n",
        "#http://image-net.org/about-stats\n",
        "#https://arxiv.org/pdf/1409.1556.pdf\n",
        "#below code has been tested and executed only in colab.research.google.com .For faster execution please make sure you have enabled GPU from notebook settings before execution"
      ],
      "execution_count": 0,
      "outputs": []
    },
    {
      "metadata": {
        "id": "zuQhcnAuD-yW",
        "colab_type": "code",
        "colab": {
          "autoexec": {
            "startup": false,
            "wait_interval": 0
          },
          "base_uri": "https://localhost:8080/",
          "height": 119
        },
        "outputId": "2e896cc5-3c89-40c2-c3fa-5386d697d957",
        "executionInfo": {
          "status": "ok",
          "timestamp": 1524044050617,
          "user_tz": -330,
          "elapsed": 7788,
          "user": {
            "displayName": "Ajith",
            "photoUrl": "//lh3.googleusercontent.com/-rmoCOltBBco/AAAAAAAAAAI/AAAAAAAAAvY/hCwpnR_j61g/s50-c-k-no/photo.jpg",
            "userId": "116572676147837248204"
          }
        }
      },
      "cell_type": "code",
      "source": [
        "#for visualising resnet50 model\n",
        "!pip install -q pydot-ng\n",
        "!pip install graphviz\n",
        "!apt-get install graphviz"
      ],
      "execution_count": 2,
      "outputs": [
        {
          "output_type": "stream",
          "text": [
            "Requirement already satisfied: graphviz in /usr/local/lib/python3.6/dist-packages\n",
            "Reading package lists... Done\n",
            "Building dependency tree       \n",
            "Reading state information... Done\n",
            "graphviz is already the newest version (2.38.0-16ubuntu2).\n",
            "0 upgraded, 0 newly installed, 0 to remove and 0 not upgraded.\n"
          ],
          "name": "stdout"
        }
      ]
    },
    {
      "metadata": {
        "id": "92zKOdexECHg",
        "colab_type": "code",
        "colab": {
          "autoexec": {
            "startup": false,
            "wait_interval": 0
          }
        }
      },
      "cell_type": "code",
      "source": [
        "#for visvualizing resnet50 model\n",
        "#note:below two packages should be imported before importing keras.\n",
        "#https://stackoverflow.com/questions/49853303/how-to-install-pydot-graphviz-on-google-colab\n",
        "import pydot_ng \n",
        "import graphviz"
      ],
      "execution_count": 0,
      "outputs": []
    },
    {
      "metadata": {
        "id": "Nn8AVGHLPHnb",
        "colab_type": "code",
        "colab": {
          "autoexec": {
            "startup": false,
            "wait_interval": 0
          },
          "base_uri": "https://localhost:8080/",
          "height": 34
        },
        "outputId": "e19535f6-56f9-40e1-d403-aff1a55db5b4",
        "executionInfo": {
          "status": "ok",
          "timestamp": 1524044059433,
          "user_tz": -330,
          "elapsed": 2759,
          "user": {
            "displayName": "Ajith",
            "photoUrl": "//lh3.googleusercontent.com/-rmoCOltBBco/AAAAAAAAAAI/AAAAAAAAAvY/hCwpnR_j61g/s50-c-k-no/photo.jpg",
            "userId": "116572676147837248204"
          }
        }
      },
      "cell_type": "code",
      "source": [
        "#you are importing preprocess_input and decode_predictions from vgg16 model\n",
        "#remember each model has its own preprocess_input and decoding functions when you are replication this for other \n",
        "#models make sure you importing from respective model\n",
        "from keras.applications.vgg16 import VGG16\n",
        "from keras.preprocessing import image\n",
        "from keras.applications.vgg16 import preprocess_input, decode_predictions\n",
        "import numpy as np"
      ],
      "execution_count": 4,
      "outputs": [
        {
          "output_type": "stream",
          "text": [
            "Using TensorFlow backend.\n"
          ],
          "name": "stderr"
        }
      ]
    },
    {
      "metadata": {
        "id": "Q3FqzRrOPeRI",
        "colab_type": "code",
        "colab": {
          "autoexec": {
            "startup": false,
            "wait_interval": 0
          }
        }
      },
      "cell_type": "code",
      "source": [
        "model=VGG16(weights='imagenet',include_top=True)\n",
        "#if you change include_top=False predict wont work "
      ],
      "execution_count": 0,
      "outputs": []
    },
    {
      "metadata": {
        "id": "KF1hy96lZ8EL",
        "colab_type": "code",
        "colab": {
          "autoexec": {
            "startup": false,
            "wait_interval": 0
          },
          "base_uri": "https://localhost:8080/",
          "height": 918
        },
        "outputId": "fff24203-c50a-4f16-8f94-07d028bab8d9",
        "executionInfo": {
          "status": "ok",
          "timestamp": 1524044070618,
          "user_tz": -330,
          "elapsed": 923,
          "user": {
            "displayName": "Ajith",
            "photoUrl": "//lh3.googleusercontent.com/-rmoCOltBBco/AAAAAAAAAAI/AAAAAAAAAvY/hCwpnR_j61g/s50-c-k-no/photo.jpg",
            "userId": "116572676147837248204"
          }
        }
      },
      "cell_type": "code",
      "source": [
        "#This is the VGG model which we used - a text based description\n",
        "model.summary()"
      ],
      "execution_count": 6,
      "outputs": [
        {
          "output_type": "stream",
          "text": [
            "_________________________________________________________________\n",
            "Layer (type)                 Output Shape              Param #   \n",
            "=================================================================\n",
            "input_1 (InputLayer)         (None, 224, 224, 3)       0         \n",
            "_________________________________________________________________\n",
            "block1_conv1 (Conv2D)        (None, 224, 224, 64)      1792      \n",
            "_________________________________________________________________\n",
            "block1_conv2 (Conv2D)        (None, 224, 224, 64)      36928     \n",
            "_________________________________________________________________\n",
            "block1_pool (MaxPooling2D)   (None, 112, 112, 64)      0         \n",
            "_________________________________________________________________\n",
            "block2_conv1 (Conv2D)        (None, 112, 112, 128)     73856     \n",
            "_________________________________________________________________\n",
            "block2_conv2 (Conv2D)        (None, 112, 112, 128)     147584    \n",
            "_________________________________________________________________\n",
            "block2_pool (MaxPooling2D)   (None, 56, 56, 128)       0         \n",
            "_________________________________________________________________\n",
            "block3_conv1 (Conv2D)        (None, 56, 56, 256)       295168    \n",
            "_________________________________________________________________\n",
            "block3_conv2 (Conv2D)        (None, 56, 56, 256)       590080    \n",
            "_________________________________________________________________\n",
            "block3_conv3 (Conv2D)        (None, 56, 56, 256)       590080    \n",
            "_________________________________________________________________\n",
            "block3_pool (MaxPooling2D)   (None, 28, 28, 256)       0         \n",
            "_________________________________________________________________\n",
            "block4_conv1 (Conv2D)        (None, 28, 28, 512)       1180160   \n",
            "_________________________________________________________________\n",
            "block4_conv2 (Conv2D)        (None, 28, 28, 512)       2359808   \n",
            "_________________________________________________________________\n",
            "block4_conv3 (Conv2D)        (None, 28, 28, 512)       2359808   \n",
            "_________________________________________________________________\n",
            "block4_pool (MaxPooling2D)   (None, 14, 14, 512)       0         \n",
            "_________________________________________________________________\n",
            "block5_conv1 (Conv2D)        (None, 14, 14, 512)       2359808   \n",
            "_________________________________________________________________\n",
            "block5_conv2 (Conv2D)        (None, 14, 14, 512)       2359808   \n",
            "_________________________________________________________________\n",
            "block5_conv3 (Conv2D)        (None, 14, 14, 512)       2359808   \n",
            "_________________________________________________________________\n",
            "block5_pool (MaxPooling2D)   (None, 7, 7, 512)         0         \n",
            "_________________________________________________________________\n",
            "flatten (Flatten)            (None, 25088)             0         \n",
            "_________________________________________________________________\n",
            "fc1 (Dense)                  (None, 4096)              102764544 \n",
            "_________________________________________________________________\n",
            "fc2 (Dense)                  (None, 4096)              16781312  \n",
            "_________________________________________________________________\n",
            "predictions (Dense)          (None, 1000)              4097000   \n",
            "=================================================================\n",
            "Total params: 138,357,544\n",
            "Trainable params: 138,357,544\n",
            "Non-trainable params: 0\n",
            "_________________________________________________________________\n"
          ],
          "name": "stdout"
        }
      ]
    },
    {
      "metadata": {
        "id": "nabO3-NbESS4",
        "colab_type": "code",
        "colab": {
          "autoexec": {
            "startup": false,
            "wait_interval": 0
          }
        }
      },
      "cell_type": "code",
      "source": [
        "#for visualizing resnet50 model\n",
        "from keras.utils.vis_utils import model_to_dot\n",
        "from IPython.display import SVG"
      ],
      "execution_count": 0,
      "outputs": []
    },
    {
      "metadata": {
        "id": "0VKP-Kj2EWqR",
        "colab_type": "code",
        "colab": {
          "autoexec": {
            "startup": false,
            "wait_interval": 0
          },
          "base_uri": "https://localhost:8080/",
          "height": 2222
        },
        "outputId": "7033c3f7-55e6-4f17-e845-a16c6703f23a",
        "executionInfo": {
          "status": "ok",
          "timestamp": 1524044080691,
          "user_tz": -330,
          "elapsed": 1167,
          "user": {
            "displayName": "Ajith",
            "photoUrl": "//lh3.googleusercontent.com/-rmoCOltBBco/AAAAAAAAAAI/AAAAAAAAAvY/hCwpnR_j61g/s50-c-k-no/photo.jpg",
            "userId": "116572676147837248204"
          }
        }
      },
      "cell_type": "code",
      "source": [
        "#block representation of the model\n",
        "SVG(model_to_dot(model).create(prog='dot',format='svg'))"
      ],
      "execution_count": 8,
      "outputs": [
        {
          "output_type": "execute_result",
          "data": {
            "text/plain": [
              "<IPython.core.display.SVG object>"
            ],
            "image/svg+xml": "<svg height=\"1651pt\" viewBox=\"0.00 0.00 223.00 1651.00\" width=\"223pt\" xmlns=\"http://www.w3.org/2000/svg\" xmlns:xlink=\"http://www.w3.org/1999/xlink\">\n<g class=\"graph\" id=\"graph0\" transform=\"scale(1 1) rotate(0) translate(4 1647)\">\n<title>G</title>\n<polygon fill=\"white\" points=\"-4,4 -4,-1647 219,-1647 219,4 -4,4\" stroke=\"none\"/>\n<!-- 140526228905936 -->\n<g class=\"node\" id=\"node1\"><title>140526228905936</title>\n<polygon fill=\"none\" points=\"27.5,-1606.5 27.5,-1642.5 187.5,-1642.5 187.5,-1606.5 27.5,-1606.5\" stroke=\"black\"/>\n<text font-family=\"Times,serif\" font-size=\"14.00\" text-anchor=\"middle\" x=\"107.5\" y=\"-1620.8\">input_1: InputLayer</text>\n</g>\n<!-- 140526110567840 -->\n<g class=\"node\" id=\"node2\"><title>140526110567840</title>\n<polygon fill=\"none\" points=\"17,-1533.5 17,-1569.5 198,-1569.5 198,-1533.5 17,-1533.5\" stroke=\"black\"/>\n<text font-family=\"Times,serif\" font-size=\"14.00\" text-anchor=\"middle\" x=\"107.5\" y=\"-1547.8\">block1_conv1: Conv2D</text>\n</g>\n<!-- 140526228905936&#45;&gt;140526110567840 -->\n<g class=\"edge\" id=\"edge1\"><title>140526228905936-&gt;140526110567840</title>\n<path d=\"M107.5,-1606.31C107.5,-1598.29 107.5,-1588.55 107.5,-1579.57\" fill=\"none\" stroke=\"black\"/>\n<polygon fill=\"black\" points=\"111,-1579.53 107.5,-1569.53 104,-1579.53 111,-1579.53\" stroke=\"black\"/>\n</g>\n<!-- 140526110566104 -->\n<g class=\"node\" id=\"node3\"><title>140526110566104</title>\n<polygon fill=\"none\" points=\"17,-1460.5 17,-1496.5 198,-1496.5 198,-1460.5 17,-1460.5\" stroke=\"black\"/>\n<text font-family=\"Times,serif\" font-size=\"14.00\" text-anchor=\"middle\" x=\"107.5\" y=\"-1474.8\">block1_conv2: Conv2D</text>\n</g>\n<!-- 140526110567840&#45;&gt;140526110566104 -->\n<g class=\"edge\" id=\"edge2\"><title>140526110567840-&gt;140526110566104</title>\n<path d=\"M107.5,-1533.31C107.5,-1525.29 107.5,-1515.55 107.5,-1506.57\" fill=\"none\" stroke=\"black\"/>\n<polygon fill=\"black\" points=\"111,-1506.53 107.5,-1496.53 104,-1506.53 111,-1506.53\" stroke=\"black\"/>\n</g>\n<!-- 140526110567728 -->\n<g class=\"node\" id=\"node4\"><title>140526110567728</title>\n<polygon fill=\"none\" points=\"0,-1387.5 0,-1423.5 215,-1423.5 215,-1387.5 0,-1387.5\" stroke=\"black\"/>\n<text font-family=\"Times,serif\" font-size=\"14.00\" text-anchor=\"middle\" x=\"107.5\" y=\"-1401.8\">block1_pool: MaxPooling2D</text>\n</g>\n<!-- 140526110566104&#45;&gt;140526110567728 -->\n<g class=\"edge\" id=\"edge3\"><title>140526110566104-&gt;140526110567728</title>\n<path d=\"M107.5,-1460.31C107.5,-1452.29 107.5,-1442.55 107.5,-1433.57\" fill=\"none\" stroke=\"black\"/>\n<polygon fill=\"black\" points=\"111,-1433.53 107.5,-1423.53 104,-1433.53 111,-1433.53\" stroke=\"black\"/>\n</g>\n<!-- 140526110695776 -->\n<g class=\"node\" id=\"node5\"><title>140526110695776</title>\n<polygon fill=\"none\" points=\"17,-1314.5 17,-1350.5 198,-1350.5 198,-1314.5 17,-1314.5\" stroke=\"black\"/>\n<text font-family=\"Times,serif\" font-size=\"14.00\" text-anchor=\"middle\" x=\"107.5\" y=\"-1328.8\">block2_conv1: Conv2D</text>\n</g>\n<!-- 140526110567728&#45;&gt;140526110695776 -->\n<g class=\"edge\" id=\"edge4\"><title>140526110567728-&gt;140526110695776</title>\n<path d=\"M107.5,-1387.31C107.5,-1379.29 107.5,-1369.55 107.5,-1360.57\" fill=\"none\" stroke=\"black\"/>\n<polygon fill=\"black\" points=\"111,-1360.53 107.5,-1350.53 104,-1360.53 111,-1360.53\" stroke=\"black\"/>\n</g>\n<!-- 140526110406472 -->\n<g class=\"node\" id=\"node6\"><title>140526110406472</title>\n<polygon fill=\"none\" points=\"17,-1241.5 17,-1277.5 198,-1277.5 198,-1241.5 17,-1241.5\" stroke=\"black\"/>\n<text font-family=\"Times,serif\" font-size=\"14.00\" text-anchor=\"middle\" x=\"107.5\" y=\"-1255.8\">block2_conv2: Conv2D</text>\n</g>\n<!-- 140526110695776&#45;&gt;140526110406472 -->\n<g class=\"edge\" id=\"edge5\"><title>140526110695776-&gt;140526110406472</title>\n<path d=\"M107.5,-1314.31C107.5,-1306.29 107.5,-1296.55 107.5,-1287.57\" fill=\"none\" stroke=\"black\"/>\n<polygon fill=\"black\" points=\"111,-1287.53 107.5,-1277.53 104,-1287.53 111,-1287.53\" stroke=\"black\"/>\n</g>\n<!-- 140526110474368 -->\n<g class=\"node\" id=\"node7\"><title>140526110474368</title>\n<polygon fill=\"none\" points=\"0,-1168.5 0,-1204.5 215,-1204.5 215,-1168.5 0,-1168.5\" stroke=\"black\"/>\n<text font-family=\"Times,serif\" font-size=\"14.00\" text-anchor=\"middle\" x=\"107.5\" y=\"-1182.8\">block2_pool: MaxPooling2D</text>\n</g>\n<!-- 140526110406472&#45;&gt;140526110474368 -->\n<g class=\"edge\" id=\"edge6\"><title>140526110406472-&gt;140526110474368</title>\n<path d=\"M107.5,-1241.31C107.5,-1233.29 107.5,-1223.55 107.5,-1214.57\" fill=\"none\" stroke=\"black\"/>\n<polygon fill=\"black\" points=\"111,-1214.53 107.5,-1204.53 104,-1214.53 111,-1214.53\" stroke=\"black\"/>\n</g>\n<!-- 140526110045520 -->\n<g class=\"node\" id=\"node8\"><title>140526110045520</title>\n<polygon fill=\"none\" points=\"17,-1095.5 17,-1131.5 198,-1131.5 198,-1095.5 17,-1095.5\" stroke=\"black\"/>\n<text font-family=\"Times,serif\" font-size=\"14.00\" text-anchor=\"middle\" x=\"107.5\" y=\"-1109.8\">block3_conv1: Conv2D</text>\n</g>\n<!-- 140526110474368&#45;&gt;140526110045520 -->\n<g class=\"edge\" id=\"edge7\"><title>140526110474368-&gt;140526110045520</title>\n<path d=\"M107.5,-1168.31C107.5,-1160.29 107.5,-1150.55 107.5,-1141.57\" fill=\"none\" stroke=\"black\"/>\n<polygon fill=\"black\" points=\"111,-1141.53 107.5,-1131.53 104,-1141.53 111,-1141.53\" stroke=\"black\"/>\n</g>\n<!-- 140526110220752 -->\n<g class=\"node\" id=\"node9\"><title>140526110220752</title>\n<polygon fill=\"none\" points=\"17,-1022.5 17,-1058.5 198,-1058.5 198,-1022.5 17,-1022.5\" stroke=\"black\"/>\n<text font-family=\"Times,serif\" font-size=\"14.00\" text-anchor=\"middle\" x=\"107.5\" y=\"-1036.8\">block3_conv2: Conv2D</text>\n</g>\n<!-- 140526110045520&#45;&gt;140526110220752 -->\n<g class=\"edge\" id=\"edge8\"><title>140526110045520-&gt;140526110220752</title>\n<path d=\"M107.5,-1095.31C107.5,-1087.29 107.5,-1077.55 107.5,-1068.57\" fill=\"none\" stroke=\"black\"/>\n<polygon fill=\"black\" points=\"111,-1068.53 107.5,-1058.53 104,-1068.53 111,-1068.53\" stroke=\"black\"/>\n</g>\n<!-- 140526109762672 -->\n<g class=\"node\" id=\"node10\"><title>140526109762672</title>\n<polygon fill=\"none\" points=\"17,-949.5 17,-985.5 198,-985.5 198,-949.5 17,-949.5\" stroke=\"black\"/>\n<text font-family=\"Times,serif\" font-size=\"14.00\" text-anchor=\"middle\" x=\"107.5\" y=\"-963.8\">block3_conv3: Conv2D</text>\n</g>\n<!-- 140526110220752&#45;&gt;140526109762672 -->\n<g class=\"edge\" id=\"edge9\"><title>140526110220752-&gt;140526109762672</title>\n<path d=\"M107.5,-1022.31C107.5,-1014.29 107.5,-1004.55 107.5,-995.569\" fill=\"none\" stroke=\"black\"/>\n<polygon fill=\"black\" points=\"111,-995.529 107.5,-985.529 104,-995.529 111,-995.529\" stroke=\"black\"/>\n</g>\n<!-- 140526109868272 -->\n<g class=\"node\" id=\"node11\"><title>140526109868272</title>\n<polygon fill=\"none\" points=\"0,-876.5 0,-912.5 215,-912.5 215,-876.5 0,-876.5\" stroke=\"black\"/>\n<text font-family=\"Times,serif\" font-size=\"14.00\" text-anchor=\"middle\" x=\"107.5\" y=\"-890.8\">block3_pool: MaxPooling2D</text>\n</g>\n<!-- 140526109762672&#45;&gt;140526109868272 -->\n<g class=\"edge\" id=\"edge10\"><title>140526109762672-&gt;140526109868272</title>\n<path d=\"M107.5,-949.313C107.5,-941.289 107.5,-931.547 107.5,-922.569\" fill=\"none\" stroke=\"black\"/>\n<polygon fill=\"black\" points=\"111,-922.529 107.5,-912.529 104,-922.529 111,-922.529\" stroke=\"black\"/>\n</g>\n<!-- 140526109513264 -->\n<g class=\"node\" id=\"node12\"><title>140526109513264</title>\n<polygon fill=\"none\" points=\"17,-803.5 17,-839.5 198,-839.5 198,-803.5 17,-803.5\" stroke=\"black\"/>\n<text font-family=\"Times,serif\" font-size=\"14.00\" text-anchor=\"middle\" x=\"107.5\" y=\"-817.8\">block4_conv1: Conv2D</text>\n</g>\n<!-- 140526109868272&#45;&gt;140526109513264 -->\n<g class=\"edge\" id=\"edge11\"><title>140526109868272-&gt;140526109513264</title>\n<path d=\"M107.5,-876.313C107.5,-868.289 107.5,-858.547 107.5,-849.569\" fill=\"none\" stroke=\"black\"/>\n<polygon fill=\"black\" points=\"111,-849.529 107.5,-839.529 104,-849.529 111,-849.529\" stroke=\"black\"/>\n</g>\n<!-- 140526109585136 -->\n<g class=\"node\" id=\"node13\"><title>140526109585136</title>\n<polygon fill=\"none\" points=\"17,-730.5 17,-766.5 198,-766.5 198,-730.5 17,-730.5\" stroke=\"black\"/>\n<text font-family=\"Times,serif\" font-size=\"14.00\" text-anchor=\"middle\" x=\"107.5\" y=\"-744.8\">block4_conv2: Conv2D</text>\n</g>\n<!-- 140526109513264&#45;&gt;140526109585136 -->\n<g class=\"edge\" id=\"edge12\"><title>140526109513264-&gt;140526109585136</title>\n<path d=\"M107.5,-803.313C107.5,-795.289 107.5,-785.547 107.5,-776.569\" fill=\"none\" stroke=\"black\"/>\n<polygon fill=\"black\" points=\"111,-776.529 107.5,-766.529 104,-776.529 111,-776.529\" stroke=\"black\"/>\n</g>\n<!-- 140526109324736 -->\n<g class=\"node\" id=\"node14\"><title>140526109324736</title>\n<polygon fill=\"none\" points=\"17,-657.5 17,-693.5 198,-693.5 198,-657.5 17,-657.5\" stroke=\"black\"/>\n<text font-family=\"Times,serif\" font-size=\"14.00\" text-anchor=\"middle\" x=\"107.5\" y=\"-671.8\">block4_conv3: Conv2D</text>\n</g>\n<!-- 140526109585136&#45;&gt;140526109324736 -->\n<g class=\"edge\" id=\"edge13\"><title>140526109585136-&gt;140526109324736</title>\n<path d=\"M107.5,-730.313C107.5,-722.289 107.5,-712.547 107.5,-703.569\" fill=\"none\" stroke=\"black\"/>\n<polygon fill=\"black\" points=\"111,-703.529 107.5,-693.529 104,-703.529 111,-703.529\" stroke=\"black\"/>\n</g>\n<!-- 140526109239896 -->\n<g class=\"node\" id=\"node15\"><title>140526109239896</title>\n<polygon fill=\"none\" points=\"0,-584.5 0,-620.5 215,-620.5 215,-584.5 0,-584.5\" stroke=\"black\"/>\n<text font-family=\"Times,serif\" font-size=\"14.00\" text-anchor=\"middle\" x=\"107.5\" y=\"-598.8\">block4_pool: MaxPooling2D</text>\n</g>\n<!-- 140526109324736&#45;&gt;140526109239896 -->\n<g class=\"edge\" id=\"edge14\"><title>140526109324736-&gt;140526109239896</title>\n<path d=\"M107.5,-657.313C107.5,-649.289 107.5,-639.547 107.5,-630.569\" fill=\"none\" stroke=\"black\"/>\n<polygon fill=\"black\" points=\"111,-630.529 107.5,-620.529 104,-630.529 111,-630.529\" stroke=\"black\"/>\n</g>\n<!-- 140526109406040 -->\n<g class=\"node\" id=\"node16\"><title>140526109406040</title>\n<polygon fill=\"none\" points=\"17,-511.5 17,-547.5 198,-547.5 198,-511.5 17,-511.5\" stroke=\"black\"/>\n<text font-family=\"Times,serif\" font-size=\"14.00\" text-anchor=\"middle\" x=\"107.5\" y=\"-525.8\">block5_conv1: Conv2D</text>\n</g>\n<!-- 140526109239896&#45;&gt;140526109406040 -->\n<g class=\"edge\" id=\"edge15\"><title>140526109239896-&gt;140526109406040</title>\n<path d=\"M107.5,-584.313C107.5,-576.289 107.5,-566.547 107.5,-557.569\" fill=\"none\" stroke=\"black\"/>\n<polygon fill=\"black\" points=\"111,-557.529 107.5,-547.529 104,-557.529 111,-557.529\" stroke=\"black\"/>\n</g>\n<!-- 140526109054792 -->\n<g class=\"node\" id=\"node17\"><title>140526109054792</title>\n<polygon fill=\"none\" points=\"17,-438.5 17,-474.5 198,-474.5 198,-438.5 17,-438.5\" stroke=\"black\"/>\n<text font-family=\"Times,serif\" font-size=\"14.00\" text-anchor=\"middle\" x=\"107.5\" y=\"-452.8\">block5_conv2: Conv2D</text>\n</g>\n<!-- 140526109406040&#45;&gt;140526109054792 -->\n<g class=\"edge\" id=\"edge16\"><title>140526109406040-&gt;140526109054792</title>\n<path d=\"M107.5,-511.313C107.5,-503.289 107.5,-493.547 107.5,-484.569\" fill=\"none\" stroke=\"black\"/>\n<polygon fill=\"black\" points=\"111,-484.529 107.5,-474.529 104,-484.529 111,-484.529\" stroke=\"black\"/>\n</g>\n<!-- 140526109130880 -->\n<g class=\"node\" id=\"node18\"><title>140526109130880</title>\n<polygon fill=\"none\" points=\"17,-365.5 17,-401.5 198,-401.5 198,-365.5 17,-365.5\" stroke=\"black\"/>\n<text font-family=\"Times,serif\" font-size=\"14.00\" text-anchor=\"middle\" x=\"107.5\" y=\"-379.8\">block5_conv3: Conv2D</text>\n</g>\n<!-- 140526109054792&#45;&gt;140526109130880 -->\n<g class=\"edge\" id=\"edge17\"><title>140526109054792-&gt;140526109130880</title>\n<path d=\"M107.5,-438.313C107.5,-430.289 107.5,-420.547 107.5,-411.569\" fill=\"none\" stroke=\"black\"/>\n<polygon fill=\"black\" points=\"111,-411.529 107.5,-401.529 104,-411.529 111,-411.529\" stroke=\"black\"/>\n</g>\n<!-- 140526108693448 -->\n<g class=\"node\" id=\"node19\"><title>140526108693448</title>\n<polygon fill=\"none\" points=\"0,-292.5 0,-328.5 215,-328.5 215,-292.5 0,-292.5\" stroke=\"black\"/>\n<text font-family=\"Times,serif\" font-size=\"14.00\" text-anchor=\"middle\" x=\"107.5\" y=\"-306.8\">block5_pool: MaxPooling2D</text>\n</g>\n<!-- 140526109130880&#45;&gt;140526108693448 -->\n<g class=\"edge\" id=\"edge18\"><title>140526109130880-&gt;140526108693448</title>\n<path d=\"M107.5,-365.313C107.5,-357.289 107.5,-347.547 107.5,-338.569\" fill=\"none\" stroke=\"black\"/>\n<polygon fill=\"black\" points=\"111,-338.529 107.5,-328.529 104,-338.529 111,-338.529\" stroke=\"black\"/>\n</g>\n<!-- 140526108856952 -->\n<g class=\"node\" id=\"node20\"><title>140526108856952</title>\n<polygon fill=\"none\" points=\"45,-219.5 45,-255.5 170,-255.5 170,-219.5 45,-219.5\" stroke=\"black\"/>\n<text font-family=\"Times,serif\" font-size=\"14.00\" text-anchor=\"middle\" x=\"107.5\" y=\"-233.8\">flatten: Flatten</text>\n</g>\n<!-- 140526108693448&#45;&gt;140526108856952 -->\n<g class=\"edge\" id=\"edge19\"><title>140526108693448-&gt;140526108856952</title>\n<path d=\"M107.5,-292.313C107.5,-284.289 107.5,-274.547 107.5,-265.569\" fill=\"none\" stroke=\"black\"/>\n<polygon fill=\"black\" points=\"111,-265.529 107.5,-255.529 104,-265.529 111,-265.529\" stroke=\"black\"/>\n</g>\n<!-- 140526108942120 -->\n<g class=\"node\" id=\"node21\"><title>140526108942120</title>\n<polygon fill=\"none\" points=\"61.5,-146.5 61.5,-182.5 153.5,-182.5 153.5,-146.5 61.5,-146.5\" stroke=\"black\"/>\n<text font-family=\"Times,serif\" font-size=\"14.00\" text-anchor=\"middle\" x=\"107.5\" y=\"-160.8\">fc1: Dense</text>\n</g>\n<!-- 140526108856952&#45;&gt;140526108942120 -->\n<g class=\"edge\" id=\"edge20\"><title>140526108856952-&gt;140526108942120</title>\n<path d=\"M107.5,-219.313C107.5,-211.289 107.5,-201.547 107.5,-192.569\" fill=\"none\" stroke=\"black\"/>\n<polygon fill=\"black\" points=\"111,-192.529 107.5,-182.529 104,-192.529 111,-192.529\" stroke=\"black\"/>\n</g>\n<!-- 140526108594016 -->\n<g class=\"node\" id=\"node22\"><title>140526108594016</title>\n<polygon fill=\"none\" points=\"61.5,-73.5 61.5,-109.5 153.5,-109.5 153.5,-73.5 61.5,-73.5\" stroke=\"black\"/>\n<text font-family=\"Times,serif\" font-size=\"14.00\" text-anchor=\"middle\" x=\"107.5\" y=\"-87.8\">fc2: Dense</text>\n</g>\n<!-- 140526108942120&#45;&gt;140526108594016 -->\n<g class=\"edge\" id=\"edge21\"><title>140526108942120-&gt;140526108594016</title>\n<path d=\"M107.5,-146.313C107.5,-138.289 107.5,-128.547 107.5,-119.569\" fill=\"none\" stroke=\"black\"/>\n<polygon fill=\"black\" points=\"111,-119.529 107.5,-109.529 104,-119.529 111,-119.529\" stroke=\"black\"/>\n</g>\n<!-- 140526108280256 -->\n<g class=\"node\" id=\"node23\"><title>140526108280256</title>\n<polygon fill=\"none\" points=\"32,-0.5 32,-36.5 183,-36.5 183,-0.5 32,-0.5\" stroke=\"black\"/>\n<text font-family=\"Times,serif\" font-size=\"14.00\" text-anchor=\"middle\" x=\"107.5\" y=\"-14.8\">predictions: Dense</text>\n</g>\n<!-- 140526108594016&#45;&gt;140526108280256 -->\n<g class=\"edge\" id=\"edge22\"><title>140526108594016-&gt;140526108280256</title>\n<path d=\"M107.5,-73.3129C107.5,-65.2895 107.5,-55.5475 107.5,-46.5691\" fill=\"none\" stroke=\"black\"/>\n<polygon fill=\"black\" points=\"111,-46.5288 107.5,-36.5288 104,-46.5289 111,-46.5288\" stroke=\"black\"/>\n</g>\n</g>\n</svg>"
          },
          "metadata": {
            "tags": []
          },
          "execution_count": 8
        }
      ]
    }
  ]
}