{
  "nbformat": 4,
  "nbformat_minor": 0,
  "metadata": {
    "colab": {
      "name": "VGG19_visualization.ipynb",
      "version": "0.3.2",
      "views": {},
      "default_view": {},
      "provenance": [],
      "collapsed_sections": []
    },
    "kernelspec": {
      "name": "python3",
      "display_name": "Python 3"
    }
  },
  "cells": [
    {
      "metadata": {
        "id": "f51_X_RljhCs",
        "colab_type": "code",
        "colab": {
          "autoexec": {
            "startup": false,
            "wait_interval": 0
          }
        }
      },
      "cell_type": "code",
      "source": [
        "##line1:VGG19 model's fc1 layer (last before layer) of the architecture is extracted and visualized\n",
        "#http://image-net.org/about-stats\n",
        "#https://arxiv.org/abs/1512.03385\n",
        "#below code has been tested and executed only in colab.research.google.com .Please make sure you have enabled GPU from notebook settings before execution"
      ],
      "execution_count": 0,
      "outputs": []
    },
    {
      "metadata": {
        "id": "JrwNZxN6_5mW",
        "colab_type": "code",
        "colab": {
          "autoexec": {
            "startup": false,
            "wait_interval": 0
          },
          "base_uri": "https://localhost:8080/",
          "height": 119
        },
        "outputId": "9f632419-11ec-47c8-d58d-438752517c9d",
        "executionInfo": {
          "status": "ok",
          "timestamp": 1524053841932,
          "user_tz": -330,
          "elapsed": 8244,
          "user": {
            "displayName": "Ajith",
            "photoUrl": "//lh3.googleusercontent.com/-rmoCOltBBco/AAAAAAAAAAI/AAAAAAAAAvY/hCwpnR_j61g/s50-c-k-no/photo.jpg",
            "userId": "116572676147837248204"
          }
        }
      },
      "cell_type": "code",
      "source": [
        "#for visualising VGG19 model\n",
        "!pip install -q pydot-ng\n",
        "!pip install graphviz\n",
        "!apt-get install graphviz"
      ],
      "execution_count": 2,
      "outputs": [
        {
          "output_type": "stream",
          "text": [
            "Requirement already satisfied: graphviz in /usr/local/lib/python3.6/dist-packages\n",
            "Reading package lists... Done\n",
            "Building dependency tree       \n",
            "Reading state information... Done\n",
            "graphviz is already the newest version (2.38.0-16ubuntu2).\n",
            "0 upgraded, 0 newly installed, 0 to remove and 0 not upgraded.\n"
          ],
          "name": "stdout"
        }
      ]
    },
    {
      "metadata": {
        "id": "-E5h2fwTk-Xy",
        "colab_type": "code",
        "colab": {
          "autoexec": {
            "startup": false,
            "wait_interval": 0
          }
        }
      },
      "cell_type": "code",
      "source": [
        "import pydot_ng\n",
        "import graphviz"
      ],
      "execution_count": 0,
      "outputs": []
    },
    {
      "metadata": {
        "id": "mSu8Wm7OU_YW",
        "colab_type": "code",
        "colab": {
          "autoexec": {
            "startup": false,
            "wait_interval": 0
          },
          "base_uri": "https://localhost:8080/",
          "height": 34
        },
        "outputId": "62b23493-2a94-4595-9684-8a0dcab03402",
        "executionInfo": {
          "status": "ok",
          "timestamp": 1524053846128,
          "user_tz": -330,
          "elapsed": 1714,
          "user": {
            "displayName": "Ajith",
            "photoUrl": "//lh3.googleusercontent.com/-rmoCOltBBco/AAAAAAAAAAI/AAAAAAAAAvY/hCwpnR_j61g/s50-c-k-no/photo.jpg",
            "userId": "116572676147837248204"
          }
        }
      },
      "cell_type": "code",
      "source": [
        "from keras.applications.vgg19 import VGG19\n",
        "from keras.preprocessing import image\n",
        "from keras.applications.vgg19 import preprocess_input,decode_predictions\n",
        "from keras.models import Model\n",
        "import numpy as np"
      ],
      "execution_count": 4,
      "outputs": [
        {
          "output_type": "stream",
          "text": [
            "Using TensorFlow backend.\n"
          ],
          "name": "stderr"
        }
      ]
    },
    {
      "metadata": {
        "id": "9AHQqJsCl8DB",
        "colab_type": "code",
        "colab": {
          "autoexec": {
            "startup": false,
            "wait_interval": 0
          }
        }
      },
      "cell_type": "code",
      "source": [
        "#For visualising picture\n",
        "from matplotlib import pyplot as plt\n",
        "%matplotlib inline"
      ],
      "execution_count": 0,
      "outputs": []
    },
    {
      "metadata": {
        "id": "Lf9mz57wY6x1",
        "colab_type": "code",
        "colab": {
          "autoexec": {
            "startup": false,
            "wait_interval": 0
          }
        }
      },
      "cell_type": "code",
      "source": [
        "#extracting 'fc1'(fully connected layer 1) layer from base_model and storing it in model\n",
        "base_model=VGG19(weights='imagenet',include_top=True)\n",
        "model=Model(inputs=base_model.input,outputs=base_model.get_layer('fc1').output)"
      ],
      "execution_count": 0,
      "outputs": []
    },
    {
      "metadata": {
        "id": "guDryqEv2wOG",
        "colab_type": "code",
        "colab": {
          "autoexec": {
            "startup": false,
            "wait_interval": 0
          }
        }
      },
      "cell_type": "code",
      "source": [
        "from keras.models import Sequential"
      ],
      "execution_count": 0,
      "outputs": []
    },
    {
      "metadata": {
        "id": "dNPTvWOb25iL",
        "colab_type": "code",
        "colab": {
          "autoexec": {
            "startup": false,
            "wait_interval": 0
          }
        }
      },
      "cell_type": "code",
      "source": [
        "from keras.layers import Dense, Activation\n"
      ],
      "execution_count": 0,
      "outputs": []
    },
    {
      "metadata": {
        "id": "5ZQx0JYAtWl7",
        "colab_type": "code",
        "colab": {
          "autoexec": {
            "startup": false,
            "wait_interval": 0
          }
        }
      },
      "cell_type": "code",
      "source": [
        "#its not possible to give predictions from fc1 layer immediately ;only after passing it through softmax layer (assigning probabilities) we can use predict function to classify \n",
        "#in order to add layer you need to take a sequential initialized model and then add fc1 model along with it "
      ],
      "execution_count": 0,
      "outputs": []
    },
    {
      "metadata": {
        "id": "GAwXSz5b0-Os",
        "colab_type": "code",
        "colab": {
          "autoexec": {
            "startup": false,
            "wait_interval": 0
          }
        }
      },
      "cell_type": "code",
      "source": [
        "#sequential model is initialised with model2\n",
        "model2=Sequential()\n",
        "#fc1 layer is added in a sequential manner to model2\n",
        "model2.add(model)\n",
        "#adding softmax layer for prediction\n",
        "model2.add(Dense(1000,activation='softmax'))"
      ],
      "execution_count": 0,
      "outputs": []
    },
    {
      "metadata": {
        "id": "lUSErCtUnuBG",
        "colab_type": "code",
        "colab": {
          "autoexec": {
            "startup": false,
            "wait_interval": 0
          }
        }
      },
      "cell_type": "code",
      "source": [
        "#image is loaded from url\n",
        "#you can use imread to load loacally \n",
        "from urllib.request import urlopen"
      ],
      "execution_count": 0,
      "outputs": []
    },
    {
      "metadata": {
        "id": "E5T0U3Oumbbx",
        "colab_type": "code",
        "colab": {
          "autoexec": {
            "startup": false,
            "wait_interval": 0
          }
        }
      },
      "cell_type": "code",
      "source": [
        "#url of the image is stored in url_link1\n",
        "url_link1=urlopen(\"https://secure.img1-fg.wfcdn.com/im/60243122/resize-h800%5Ecompr-r85/4037/40372281/Corona+Extendable+Dining+Table.jpg\")"
      ],
      "execution_count": 0,
      "outputs": []
    },
    {
      "metadata": {
        "id": "rPltGNJpmcET",
        "colab_type": "code",
        "colab": {
          "autoexec": {
            "startup": false,
            "wait_interval": 0
          }
        }
      },
      "cell_type": "code",
      "source": [
        "#(224,224) is the target size of resnet50 model\n",
        "img=image.load_img(url_link1,target_size=(224,224))"
      ],
      "execution_count": 0,
      "outputs": []
    },
    {
      "metadata": {
        "id": "5dz6bJgSmfHO",
        "colab_type": "code",
        "colab": {
          "autoexec": {
            "startup": false,
            "wait_interval": 0
          },
          "base_uri": "https://localhost:8080/",
          "height": 286
        },
        "outputId": "f72484a3-603f-47d9-b93e-574c7d4b46ed",
        "executionInfo": {
          "status": "ok",
          "timestamp": 1524053875715,
          "user_tz": -330,
          "elapsed": 1494,
          "user": {
            "displayName": "Ajith",
            "photoUrl": "//lh3.googleusercontent.com/-rmoCOltBBco/AAAAAAAAAAI/AAAAAAAAAvY/hCwpnR_j61g/s50-c-k-no/photo.jpg",
            "userId": "116572676147837248204"
          }
        }
      },
      "cell_type": "code",
      "source": [
        "#visuvalising input image\n",
        "plt.imshow(img)"
      ],
      "execution_count": 13,
      "outputs": [
        {
          "output_type": "execute_result",
          "data": {
            "text/plain": [
              "<matplotlib.image.AxesImage at 0x7f2bf623ef98>"
            ]
          },
          "metadata": {
            "tags": []
          },
          "execution_count": 13
        },
        {
          "output_type": "display_data",
          "data": {
            "image/png": "[encoded data removed]",
            "text/plain": [
              "<matplotlib.figure.Figure at 0x7f2bf62e2320>"
            ]
          },
          "metadata": {
            "tags": []
          }
        }
      ]
    },
    {
      "metadata": {
        "id": "dgPZqkDFmiV9",
        "colab_type": "code",
        "colab": {
          "autoexec": {
            "startup": false,
            "wait_interval": 0
          }
        }
      },
      "cell_type": "code",
      "source": [
        "#preprocessing input image\n",
        "x=image.img_to_array(img)\n",
        "x=np.expand_dims(x,axis=0)\n",
        "x=preprocess_input(x)"
      ],
      "execution_count": 0,
      "outputs": []
    },
    {
      "metadata": {
        "id": "8SOkOYs4kOh0",
        "colab_type": "code",
        "colab": {
          "autoexec": {
            "startup": false,
            "wait_interval": 0
          }
        }
      },
      "cell_type": "code",
      "source": [
        "fc1_layer=model2.predict(x)"
      ],
      "execution_count": 0,
      "outputs": []
    },
    {
      "metadata": {
        "id": "5ZUxsY3xdS-u",
        "colab_type": "code",
        "colab": {
          "autoexec": {
            "startup": false,
            "wait_interval": 0
          },
          "base_uri": "https://localhost:8080/",
          "height": 54
        },
        "outputId": "eaae4d6d-1563-4b5a-84a4-58363233d76c",
        "executionInfo": {
          "status": "ok",
          "timestamp": 1524053635972,
          "user_tz": -330,
          "elapsed": 1393,
          "user": {
            "displayName": "Ajith",
            "photoUrl": "//lh3.googleusercontent.com/-rmoCOltBBco/AAAAAAAAAAI/AAAAAAAAAvY/hCwpnR_j61g/s50-c-k-no/photo.jpg",
            "userId": "116572676147837248204"
          }
        }
      },
      "cell_type": "code",
      "source": [
        "print(\"predict:\",decode_predictions(fc1_layer))"
      ],
      "execution_count": 16,
      "outputs": [
        {
          "output_type": "stream",
          "text": [
            "predict: [[('n02481823', 'chimpanzee', 0.5984178), ('n02108915', 'French_bulldog', 0.06021018), ('n04344873', 'studio_couch', 0.053470187), ('n04311004', 'steel_arch_bridge', 0.04979494), ('n03485794', 'handkerchief', 0.041064322)]]\n"
          ],
          "name": "stdout"
        }
      ]
    },
    {
      "metadata": {
        "id": "ZbiZGE_XhDAt",
        "colab_type": "code",
        "colab": {
          "autoexec": {
            "startup": false,
            "wait_interval": 0
          }
        }
      },
      "cell_type": "code",
      "source": [
        "from keras.utils.vis_utils import model_to_dot\n",
        "from IPython.display import SVG"
      ],
      "execution_count": 0,
      "outputs": []
    },
    {
      "metadata": {
        "id": "hlyGY0nU_SDz",
        "colab_type": "code",
        "colab": {
          "autoexec": {
            "startup": false,
            "wait_interval": 0
          },
          "base_uri": "https://localhost:8080/",
          "height": 2514
        },
        "outputId": "0559cb56-0736-44b8-e6b6-4510c2eaf97f",
        "executionInfo": {
          "status": "ok",
          "timestamp": 1524053886554,
          "user_tz": -330,
          "elapsed": 1181,
          "user": {
            "displayName": "Ajith",
            "photoUrl": "//lh3.googleusercontent.com/-rmoCOltBBco/AAAAAAAAAAI/AAAAAAAAAvY/hCwpnR_j61g/s50-c-k-no/photo.jpg",
            "userId": "116572676147837248204"
          }
        }
      },
      "cell_type": "code",
      "source": [
        "#model of base_model(complete VGG19)\n",
        "SVG(model_to_dot(base_model).create(prog='dot',format='svg'))"
      ],
      "execution_count": 17,
      "outputs": [
        {
          "output_type": "execute_result",
          "data": {
            "text/plain": [
              "<IPython.core.display.SVG object>"
            ],
            "image/svg+xml": "<svg height=\"1870pt\" viewBox=\"0.00 0.00 223.00 1870.00\" width=\"223pt\" xmlns=\"http://www.w3.org/2000/svg\" xmlns:xlink=\"http://www.w3.org/1999/xlink\">\n<g class=\"graph\" id=\"graph0\" transform=\"scale(1 1) rotate(0) translate(4 1866)\">\n<title>G</title>\n<polygon fill=\"white\" points=\"-4,4 -4,-1866 219,-1866 219,4 -4,4\" stroke=\"none\"/>\n<!-- 139826826560456 -->\n<g class=\"node\" id=\"node1\"><title>139826826560456</title>\n<polygon fill=\"none\" points=\"27.5,-1825.5 27.5,-1861.5 187.5,-1861.5 187.5,-1825.5 27.5,-1825.5\" stroke=\"black\"/>\n<text font-family=\"Times,serif\" font-size=\"14.00\" text-anchor=\"middle\" x=\"107.5\" y=\"-1839.8\">input_1: InputLayer</text>\n</g>\n<!-- 139827022443800 -->\n<g class=\"node\" id=\"node2\"><title>139827022443800</title>\n<polygon fill=\"none\" points=\"17,-1752.5 17,-1788.5 198,-1788.5 198,-1752.5 17,-1752.5\" stroke=\"black\"/>\n<text font-family=\"Times,serif\" font-size=\"14.00\" text-anchor=\"middle\" x=\"107.5\" y=\"-1766.8\">block1_conv1: Conv2D</text>\n</g>\n<!-- 139826826560456&#45;&gt;139827022443800 -->\n<g class=\"edge\" id=\"edge1\"><title>139826826560456-&gt;139827022443800</title>\n<path d=\"M107.5,-1825.31C107.5,-1817.29 107.5,-1807.55 107.5,-1798.57\" fill=\"none\" stroke=\"black\"/>\n<polygon fill=\"black\" points=\"111,-1798.53 107.5,-1788.53 104,-1798.53 111,-1798.53\" stroke=\"black\"/>\n</g>\n<!-- 139826826561128 -->\n<g class=\"node\" id=\"node3\"><title>139826826561128</title>\n<polygon fill=\"none\" points=\"17,-1679.5 17,-1715.5 198,-1715.5 198,-1679.5 17,-1679.5\" stroke=\"black\"/>\n<text font-family=\"Times,serif\" font-size=\"14.00\" text-anchor=\"middle\" x=\"107.5\" y=\"-1693.8\">block1_conv2: Conv2D</text>\n</g>\n<!-- 139827022443800&#45;&gt;139826826561128 -->\n<g class=\"edge\" id=\"edge2\"><title>139827022443800-&gt;139826826561128</title>\n<path d=\"M107.5,-1752.31C107.5,-1744.29 107.5,-1734.55 107.5,-1725.57\" fill=\"none\" stroke=\"black\"/>\n<polygon fill=\"black\" points=\"111,-1725.53 107.5,-1715.53 104,-1725.53 111,-1725.53\" stroke=\"black\"/>\n</g>\n<!-- 139826826563536 -->\n<g class=\"node\" id=\"node4\"><title>139826826563536</title>\n<polygon fill=\"none\" points=\"0,-1606.5 0,-1642.5 215,-1642.5 215,-1606.5 0,-1606.5\" stroke=\"black\"/>\n<text font-family=\"Times,serif\" font-size=\"14.00\" text-anchor=\"middle\" x=\"107.5\" y=\"-1620.8\">block1_pool: MaxPooling2D</text>\n</g>\n<!-- 139826826561128&#45;&gt;139826826563536 -->\n<g class=\"edge\" id=\"edge3\"><title>139826826561128-&gt;139826826563536</title>\n<path d=\"M107.5,-1679.31C107.5,-1671.29 107.5,-1661.55 107.5,-1652.57\" fill=\"none\" stroke=\"black\"/>\n<polygon fill=\"black\" points=\"111,-1652.53 107.5,-1642.53 104,-1652.53 111,-1652.53\" stroke=\"black\"/>\n</g>\n<!-- 139826826237768 -->\n<g class=\"node\" id=\"node5\"><title>139826826237768</title>\n<polygon fill=\"none\" points=\"17,-1533.5 17,-1569.5 198,-1569.5 198,-1533.5 17,-1533.5\" stroke=\"black\"/>\n<text font-family=\"Times,serif\" font-size=\"14.00\" text-anchor=\"middle\" x=\"107.5\" y=\"-1547.8\">block2_conv1: Conv2D</text>\n</g>\n<!-- 139826826563536&#45;&gt;139826826237768 -->\n<g class=\"edge\" id=\"edge4\"><title>139826826563536-&gt;139826826237768</title>\n<path d=\"M107.5,-1606.31C107.5,-1598.29 107.5,-1588.55 107.5,-1579.57\" fill=\"none\" stroke=\"black\"/>\n<polygon fill=\"black\" points=\"111,-1579.53 107.5,-1569.53 104,-1579.53 111,-1579.53\" stroke=\"black\"/>\n</g>\n<!-- 139826826342016 -->\n<g class=\"node\" id=\"node6\"><title>139826826342016</title>\n<polygon fill=\"none\" points=\"17,-1460.5 17,-1496.5 198,-1496.5 198,-1460.5 17,-1460.5\" stroke=\"black\"/>\n<text font-family=\"Times,serif\" font-size=\"14.00\" text-anchor=\"middle\" x=\"107.5\" y=\"-1474.8\">block2_conv2: Conv2D</text>\n</g>\n<!-- 139826826237768&#45;&gt;139826826342016 -->\n<g class=\"edge\" id=\"edge5\"><title>139826826237768-&gt;139826826342016</title>\n<path d=\"M107.5,-1533.31C107.5,-1525.29 107.5,-1515.55 107.5,-1506.57\" fill=\"none\" stroke=\"black\"/>\n<polygon fill=\"black\" points=\"111,-1506.53 107.5,-1496.53 104,-1506.53 111,-1506.53\" stroke=\"black\"/>\n</g>\n<!-- 139826826005752 -->\n<g class=\"node\" id=\"node7\"><title>139826826005752</title>\n<polygon fill=\"none\" points=\"0,-1387.5 0,-1423.5 215,-1423.5 215,-1387.5 0,-1387.5\" stroke=\"black\"/>\n<text font-family=\"Times,serif\" font-size=\"14.00\" text-anchor=\"middle\" x=\"107.5\" y=\"-1401.8\">block2_pool: MaxPooling2D</text>\n</g>\n<!-- 139826826342016&#45;&gt;139826826005752 -->\n<g class=\"edge\" id=\"edge6\"><title>139826826342016-&gt;139826826005752</title>\n<path d=\"M107.5,-1460.31C107.5,-1452.29 107.5,-1442.55 107.5,-1433.57\" fill=\"none\" stroke=\"black\"/>\n<polygon fill=\"black\" points=\"111,-1433.53 107.5,-1423.53 104,-1433.53 111,-1433.53\" stroke=\"black\"/>\n</g>\n<!-- 139826826085824 -->\n<g class=\"node\" id=\"node8\"><title>139826826085824</title>\n<polygon fill=\"none\" points=\"17,-1314.5 17,-1350.5 198,-1350.5 198,-1314.5 17,-1314.5\" stroke=\"black\"/>\n<text font-family=\"Times,serif\" font-size=\"14.00\" text-anchor=\"middle\" x=\"107.5\" y=\"-1328.8\">block3_conv1: Conv2D</text>\n</g>\n<!-- 139826826005752&#45;&gt;139826826085824 -->\n<g class=\"edge\" id=\"edge7\"><title>139826826005752-&gt;139826826085824</title>\n<path d=\"M107.5,-1387.31C107.5,-1379.29 107.5,-1369.55 107.5,-1360.57\" fill=\"none\" stroke=\"black\"/>\n<polygon fill=\"black\" points=\"111,-1360.53 107.5,-1350.53 104,-1360.53 111,-1360.53\" stroke=\"black\"/>\n</g>\n<!-- 139826825641544 -->\n<g class=\"node\" id=\"node9\"><title>139826825641544</title>\n<polygon fill=\"none\" points=\"17,-1241.5 17,-1277.5 198,-1277.5 198,-1241.5 17,-1241.5\" stroke=\"black\"/>\n<text font-family=\"Times,serif\" font-size=\"14.00\" text-anchor=\"middle\" x=\"107.5\" y=\"-1255.8\">block3_conv2: Conv2D</text>\n</g>\n<!-- 139826826085824&#45;&gt;139826825641544 -->\n<g class=\"edge\" id=\"edge8\"><title>139826826085824-&gt;139826825641544</title>\n<path d=\"M107.5,-1314.31C107.5,-1306.29 107.5,-1296.55 107.5,-1287.57\" fill=\"none\" stroke=\"black\"/>\n<polygon fill=\"black\" points=\"111,-1287.53 107.5,-1277.53 104,-1287.53 111,-1287.53\" stroke=\"black\"/>\n</g>\n<!-- 139826825368800 -->\n<g class=\"node\" id=\"node10\"><title>139826825368800</title>\n<polygon fill=\"none\" points=\"17,-1168.5 17,-1204.5 198,-1204.5 198,-1168.5 17,-1168.5\" stroke=\"black\"/>\n<text font-family=\"Times,serif\" font-size=\"14.00\" text-anchor=\"middle\" x=\"107.5\" y=\"-1182.8\">block3_conv3: Conv2D</text>\n</g>\n<!-- 139826825641544&#45;&gt;139826825368800 -->\n<g class=\"edge\" id=\"edge9\"><title>139826825641544-&gt;139826825368800</title>\n<path d=\"M107.5,-1241.31C107.5,-1233.29 107.5,-1223.55 107.5,-1214.57\" fill=\"none\" stroke=\"black\"/>\n<polygon fill=\"black\" points=\"111,-1214.53 107.5,-1204.53 104,-1214.53 111,-1214.53\" stroke=\"black\"/>\n</g>\n<!-- 139826825820536 -->\n<g class=\"node\" id=\"node11\"><title>139826825820536</title>\n<polygon fill=\"none\" points=\"17,-1095.5 17,-1131.5 198,-1131.5 198,-1095.5 17,-1095.5\" stroke=\"black\"/>\n<text font-family=\"Times,serif\" font-size=\"14.00\" text-anchor=\"middle\" x=\"107.5\" y=\"-1109.8\">block3_conv4: Conv2D</text>\n</g>\n<!-- 139826825368800&#45;&gt;139826825820536 -->\n<g class=\"edge\" id=\"edge10\"><title>139826825368800-&gt;139826825820536</title>\n<path d=\"M107.5,-1168.31C107.5,-1160.29 107.5,-1150.55 107.5,-1141.57\" fill=\"none\" stroke=\"black\"/>\n<polygon fill=\"black\" points=\"111,-1141.53 107.5,-1131.53 104,-1141.53 111,-1141.53\" stroke=\"black\"/>\n</g>\n<!-- 139826825459248 -->\n<g class=\"node\" id=\"node12\"><title>139826825459248</title>\n<polygon fill=\"none\" points=\"0,-1022.5 0,-1058.5 215,-1058.5 215,-1022.5 0,-1022.5\" stroke=\"black\"/>\n<text font-family=\"Times,serif\" font-size=\"14.00\" text-anchor=\"middle\" x=\"107.5\" y=\"-1036.8\">block3_pool: MaxPooling2D</text>\n</g>\n<!-- 139826825820536&#45;&gt;139826825459248 -->\n<g class=\"edge\" id=\"edge11\"><title>139826825820536-&gt;139826825459248</title>\n<path d=\"M107.5,-1095.31C107.5,-1087.29 107.5,-1077.55 107.5,-1068.57\" fill=\"none\" stroke=\"black\"/>\n<polygon fill=\"black\" points=\"111,-1068.53 107.5,-1058.53 104,-1068.53 111,-1068.53\" stroke=\"black\"/>\n</g>\n<!-- 139826825184760 -->\n<g class=\"node\" id=\"node13\"><title>139826825184760</title>\n<polygon fill=\"none\" points=\"17,-949.5 17,-985.5 198,-985.5 198,-949.5 17,-949.5\" stroke=\"black\"/>\n<text font-family=\"Times,serif\" font-size=\"14.00\" text-anchor=\"middle\" x=\"107.5\" y=\"-963.8\">block4_conv1: Conv2D</text>\n</g>\n<!-- 139826825459248&#45;&gt;139826825184760 -->\n<g class=\"edge\" id=\"edge12\"><title>139826825459248-&gt;139826825184760</title>\n<path d=\"M107.5,-1022.31C107.5,-1014.29 107.5,-1004.55 107.5,-995.569\" fill=\"none\" stroke=\"black\"/>\n<polygon fill=\"black\" points=\"111,-995.529 107.5,-985.529 104,-995.529 111,-995.529\" stroke=\"black\"/>\n</g>\n<!-- 139826825187000 -->\n<g class=\"node\" id=\"node14\"><title>139826825187000</title>\n<polygon fill=\"none\" points=\"17,-876.5 17,-912.5 198,-912.5 198,-876.5 17,-876.5\" stroke=\"black\"/>\n<text font-family=\"Times,serif\" font-size=\"14.00\" text-anchor=\"middle\" x=\"107.5\" y=\"-890.8\">block4_conv2: Conv2D</text>\n</g>\n<!-- 139826825184760&#45;&gt;139826825187000 -->\n<g class=\"edge\" id=\"edge13\"><title>139826825184760-&gt;139826825187000</title>\n<path d=\"M107.5,-949.313C107.5,-941.289 107.5,-931.547 107.5,-922.569\" fill=\"none\" stroke=\"black\"/>\n<polygon fill=\"black\" points=\"111,-922.529 107.5,-912.529 104,-922.529 111,-922.529\" stroke=\"black\"/>\n</g>\n<!-- 139826825357856 -->\n<g class=\"node\" id=\"node15\"><title>139826825357856</title>\n<polygon fill=\"none\" points=\"17,-803.5 17,-839.5 198,-839.5 198,-803.5 17,-803.5\" stroke=\"black\"/>\n<text font-family=\"Times,serif\" font-size=\"14.00\" text-anchor=\"middle\" x=\"107.5\" y=\"-817.8\">block4_conv3: Conv2D</text>\n</g>\n<!-- 139826825187000&#45;&gt;139826825357856 -->\n<g class=\"edge\" id=\"edge14\"><title>139826825187000-&gt;139826825357856</title>\n<path d=\"M107.5,-876.313C107.5,-868.289 107.5,-858.547 107.5,-849.569\" fill=\"none\" stroke=\"black\"/>\n<polygon fill=\"black\" points=\"111,-849.529 107.5,-839.529 104,-849.529 111,-849.529\" stroke=\"black\"/>\n</g>\n<!-- 139826824932040 -->\n<g class=\"node\" id=\"node16\"><title>139826824932040</title>\n<polygon fill=\"none\" points=\"17,-730.5 17,-766.5 198,-766.5 198,-730.5 17,-730.5\" stroke=\"black\"/>\n<text font-family=\"Times,serif\" font-size=\"14.00\" text-anchor=\"middle\" x=\"107.5\" y=\"-744.8\">block4_conv4: Conv2D</text>\n</g>\n<!-- 139826825357856&#45;&gt;139826824932040 -->\n<g class=\"edge\" id=\"edge15\"><title>139826825357856-&gt;139826824932040</title>\n<path d=\"M107.5,-803.313C107.5,-795.289 107.5,-785.547 107.5,-776.569\" fill=\"none\" stroke=\"black\"/>\n<polygon fill=\"black\" points=\"111,-776.529 107.5,-766.529 104,-776.529 111,-776.529\" stroke=\"black\"/>\n</g>\n<!-- 139826825090440 -->\n<g class=\"node\" id=\"node17\"><title>139826825090440</title>\n<polygon fill=\"none\" points=\"0,-657.5 0,-693.5 215,-693.5 215,-657.5 0,-657.5\" stroke=\"black\"/>\n<text font-family=\"Times,serif\" font-size=\"14.00\" text-anchor=\"middle\" x=\"107.5\" y=\"-671.8\">block4_pool: MaxPooling2D</text>\n</g>\n<!-- 139826824932040&#45;&gt;139826825090440 -->\n<g class=\"edge\" id=\"edge16\"><title>139826824932040-&gt;139826825090440</title>\n<path d=\"M107.5,-730.313C107.5,-722.289 107.5,-712.547 107.5,-703.569\" fill=\"none\" stroke=\"black\"/>\n<polygon fill=\"black\" points=\"111,-703.529 107.5,-693.529 104,-703.529 111,-703.529\" stroke=\"black\"/>\n</g>\n<!-- 139826824648016 -->\n<g class=\"node\" id=\"node18\"><title>139826824648016</title>\n<polygon fill=\"none\" points=\"17,-584.5 17,-620.5 198,-620.5 198,-584.5 17,-584.5\" stroke=\"black\"/>\n<text font-family=\"Times,serif\" font-size=\"14.00\" text-anchor=\"middle\" x=\"107.5\" y=\"-598.8\">block5_conv1: Conv2D</text>\n</g>\n<!-- 139826825090440&#45;&gt;139826824648016 -->\n<g class=\"edge\" id=\"edge17\"><title>139826825090440-&gt;139826824648016</title>\n<path d=\"M107.5,-657.313C107.5,-649.289 107.5,-639.547 107.5,-630.569\" fill=\"none\" stroke=\"black\"/>\n<polygon fill=\"black\" points=\"111,-630.529 107.5,-620.529 104,-630.529 111,-630.529\" stroke=\"black\"/>\n</g>\n<!-- 139826824821056 -->\n<g class=\"node\" id=\"node19\"><title>139826824821056</title>\n<polygon fill=\"none\" points=\"17,-511.5 17,-547.5 198,-547.5 198,-511.5 17,-511.5\" stroke=\"black\"/>\n<text font-family=\"Times,serif\" font-size=\"14.00\" text-anchor=\"middle\" x=\"107.5\" y=\"-525.8\">block5_conv2: Conv2D</text>\n</g>\n<!-- 139826824648016&#45;&gt;139826824821056 -->\n<g class=\"edge\" id=\"edge18\"><title>139826824648016-&gt;139826824821056</title>\n<path d=\"M107.5,-584.313C107.5,-576.289 107.5,-566.547 107.5,-557.569\" fill=\"none\" stroke=\"black\"/>\n<polygon fill=\"black\" points=\"111,-557.529 107.5,-547.529 104,-557.529 111,-557.529\" stroke=\"black\"/>\n</g>\n<!-- 139826824388392 -->\n<g class=\"node\" id=\"node20\"><title>139826824388392</title>\n<polygon fill=\"none\" points=\"17,-438.5 17,-474.5 198,-474.5 198,-438.5 17,-438.5\" stroke=\"black\"/>\n<text font-family=\"Times,serif\" font-size=\"14.00\" text-anchor=\"middle\" x=\"107.5\" y=\"-452.8\">block5_conv3: Conv2D</text>\n</g>\n<!-- 139826824821056&#45;&gt;139826824388392 -->\n<g class=\"edge\" id=\"edge19\"><title>139826824821056-&gt;139826824388392</title>\n<path d=\"M107.5,-511.313C107.5,-503.289 107.5,-493.547 107.5,-484.569\" fill=\"none\" stroke=\"black\"/>\n<polygon fill=\"black\" points=\"111,-484.529 107.5,-474.529 104,-484.529 111,-484.529\" stroke=\"black\"/>\n</g>\n<!-- 139826824467904 -->\n<g class=\"node\" id=\"node21\"><title>139826824467904</title>\n<polygon fill=\"none\" points=\"17,-365.5 17,-401.5 198,-401.5 198,-365.5 17,-365.5\" stroke=\"black\"/>\n<text font-family=\"Times,serif\" font-size=\"14.00\" text-anchor=\"middle\" x=\"107.5\" y=\"-379.8\">block5_conv4: Conv2D</text>\n</g>\n<!-- 139826824388392&#45;&gt;139826824467904 -->\n<g class=\"edge\" id=\"edge20\"><title>139826824388392-&gt;139826824467904</title>\n<path d=\"M107.5,-438.313C107.5,-430.289 107.5,-420.547 107.5,-411.569\" fill=\"none\" stroke=\"black\"/>\n<polygon fill=\"black\" points=\"111,-411.529 107.5,-401.529 104,-411.529 111,-411.529\" stroke=\"black\"/>\n</g>\n<!-- 139826824191952 -->\n<g class=\"node\" id=\"node22\"><title>139826824191952</title>\n<polygon fill=\"none\" points=\"0,-292.5 0,-328.5 215,-328.5 215,-292.5 0,-292.5\" stroke=\"black\"/>\n<text font-family=\"Times,serif\" font-size=\"14.00\" text-anchor=\"middle\" x=\"107.5\" y=\"-306.8\">block5_pool: MaxPooling2D</text>\n</g>\n<!-- 139826824467904&#45;&gt;139826824191952 -->\n<g class=\"edge\" id=\"edge21\"><title>139826824467904-&gt;139826824191952</title>\n<path d=\"M107.5,-365.313C107.5,-357.289 107.5,-347.547 107.5,-338.569\" fill=\"none\" stroke=\"black\"/>\n<polygon fill=\"black\" points=\"111,-338.529 107.5,-328.529 104,-338.529 111,-338.529\" stroke=\"black\"/>\n</g>\n<!-- 139826824296376 -->\n<g class=\"node\" id=\"node23\"><title>139826824296376</title>\n<polygon fill=\"none\" points=\"45,-219.5 45,-255.5 170,-255.5 170,-219.5 45,-219.5\" stroke=\"black\"/>\n<text font-family=\"Times,serif\" font-size=\"14.00\" text-anchor=\"middle\" x=\"107.5\" y=\"-233.8\">flatten: Flatten</text>\n</g>\n<!-- 139826824191952&#45;&gt;139826824296376 -->\n<g class=\"edge\" id=\"edge22\"><title>139826824191952-&gt;139826824296376</title>\n<path d=\"M107.5,-292.313C107.5,-284.289 107.5,-274.547 107.5,-265.569\" fill=\"none\" stroke=\"black\"/>\n<polygon fill=\"black\" points=\"111,-265.529 107.5,-255.529 104,-265.529 111,-265.529\" stroke=\"black\"/>\n</g>\n<!-- 139826823863824 -->\n<g class=\"node\" id=\"node24\"><title>139826823863824</title>\n<polygon fill=\"none\" points=\"61.5,-146.5 61.5,-182.5 153.5,-182.5 153.5,-146.5 61.5,-146.5\" stroke=\"black\"/>\n<text font-family=\"Times,serif\" font-size=\"14.00\" text-anchor=\"middle\" x=\"107.5\" y=\"-160.8\">fc1: Dense</text>\n</g>\n<!-- 139826824296376&#45;&gt;139826823863824 -->\n<g class=\"edge\" id=\"edge23\"><title>139826824296376-&gt;139826823863824</title>\n<path d=\"M107.5,-219.313C107.5,-211.289 107.5,-201.547 107.5,-192.569\" fill=\"none\" stroke=\"black\"/>\n<polygon fill=\"black\" points=\"111,-192.529 107.5,-182.529 104,-192.529 111,-192.529\" stroke=\"black\"/>\n</g>\n<!-- 139826824027776 -->\n<g class=\"node\" id=\"node25\"><title>139826824027776</title>\n<polygon fill=\"none\" points=\"61.5,-73.5 61.5,-109.5 153.5,-109.5 153.5,-73.5 61.5,-73.5\" stroke=\"black\"/>\n<text font-family=\"Times,serif\" font-size=\"14.00\" text-anchor=\"middle\" x=\"107.5\" y=\"-87.8\">fc2: Dense</text>\n</g>\n<!-- 139826823863824&#45;&gt;139826824027776 -->\n<g class=\"edge\" id=\"edge24\"><title>139826823863824-&gt;139826824027776</title>\n<path d=\"M107.5,-146.313C107.5,-138.289 107.5,-128.547 107.5,-119.569\" fill=\"none\" stroke=\"black\"/>\n<polygon fill=\"black\" points=\"111,-119.529 107.5,-109.529 104,-119.529 111,-119.529\" stroke=\"black\"/>\n</g>\n<!-- 139826823597864 -->\n<g class=\"node\" id=\"node26\"><title>139826823597864</title>\n<polygon fill=\"none\" points=\"32,-0.5 32,-36.5 183,-36.5 183,-0.5 32,-0.5\" stroke=\"black\"/>\n<text font-family=\"Times,serif\" font-size=\"14.00\" text-anchor=\"middle\" x=\"107.5\" y=\"-14.8\">predictions: Dense</text>\n</g>\n<!-- 139826824027776&#45;&gt;139826823597864 -->\n<g class=\"edge\" id=\"edge25\"><title>139826824027776-&gt;139826823597864</title>\n<path d=\"M107.5,-73.3129C107.5,-65.2895 107.5,-55.5475 107.5,-46.5691\" fill=\"none\" stroke=\"black\"/>\n<polygon fill=\"black\" points=\"111,-46.5288 107.5,-36.5288 104,-46.5289 111,-46.5288\" stroke=\"black\"/>\n</g>\n</g>\n</svg>"
          },
          "metadata": {
            "tags": []
          },
          "execution_count": 17
        }
      ]
    },
    {
      "metadata": {
        "id": "Ju8eODOWn8c1",
        "colab_type": "code",
        "colab": {
          "autoexec": {
            "startup": false,
            "wait_interval": 0
          },
          "base_uri": "https://localhost:8080/",
          "height": 2320
        },
        "outputId": "df52698d-19dd-440b-e4cc-17583aa3ad35",
        "executionInfo": {
          "status": "ok",
          "timestamp": 1524053898871,
          "user_tz": -330,
          "elapsed": 1180,
          "user": {
            "displayName": "Ajith",
            "photoUrl": "//lh3.googleusercontent.com/-rmoCOltBBco/AAAAAAAAAAI/AAAAAAAAAvY/hCwpnR_j61g/s50-c-k-no/photo.jpg",
            "userId": "116572676147837248204"
          }
        }
      },
      "cell_type": "code",
      "source": [
        "#below you can see that model contains blocks till 'fc1' layer (model)\n",
        "#extracted model\n",
        "SVG(model_to_dot(model).create(prog='dot',format='svg'))"
      ],
      "execution_count": 18,
      "outputs": [
        {
          "output_type": "execute_result",
          "data": {
            "text/plain": [
              "<IPython.core.display.SVG object>"
            ],
            "image/svg+xml": "<svg height=\"1724pt\" viewBox=\"0.00 0.00 223.00 1724.00\" width=\"223pt\" xmlns=\"http://www.w3.org/2000/svg\" xmlns:xlink=\"http://www.w3.org/1999/xlink\">\n<g class=\"graph\" id=\"graph0\" transform=\"scale(1 1) rotate(0) translate(4 1720)\">\n<title>G</title>\n<polygon fill=\"white\" points=\"-4,4 -4,-1720 219,-1720 219,4 -4,4\" stroke=\"none\"/>\n<!-- 139826826560456 -->\n<g class=\"node\" id=\"node1\"><title>139826826560456</title>\n<polygon fill=\"none\" points=\"27.5,-1679.5 27.5,-1715.5 187.5,-1715.5 187.5,-1679.5 27.5,-1679.5\" stroke=\"black\"/>\n<text font-family=\"Times,serif\" font-size=\"14.00\" text-anchor=\"middle\" x=\"107.5\" y=\"-1693.8\">input_1: InputLayer</text>\n</g>\n<!-- 139827022443800 -->\n<g class=\"node\" id=\"node2\"><title>139827022443800</title>\n<polygon fill=\"none\" points=\"17,-1606.5 17,-1642.5 198,-1642.5 198,-1606.5 17,-1606.5\" stroke=\"black\"/>\n<text font-family=\"Times,serif\" font-size=\"14.00\" text-anchor=\"middle\" x=\"107.5\" y=\"-1620.8\">block1_conv1: Conv2D</text>\n</g>\n<!-- 139826826560456&#45;&gt;139827022443800 -->\n<g class=\"edge\" id=\"edge1\"><title>139826826560456-&gt;139827022443800</title>\n<path d=\"M107.5,-1679.31C107.5,-1671.29 107.5,-1661.55 107.5,-1652.57\" fill=\"none\" stroke=\"black\"/>\n<polygon fill=\"black\" points=\"111,-1652.53 107.5,-1642.53 104,-1652.53 111,-1652.53\" stroke=\"black\"/>\n</g>\n<!-- 139826826561128 -->\n<g class=\"node\" id=\"node3\"><title>139826826561128</title>\n<polygon fill=\"none\" points=\"17,-1533.5 17,-1569.5 198,-1569.5 198,-1533.5 17,-1533.5\" stroke=\"black\"/>\n<text font-family=\"Times,serif\" font-size=\"14.00\" text-anchor=\"middle\" x=\"107.5\" y=\"-1547.8\">block1_conv2: Conv2D</text>\n</g>\n<!-- 139827022443800&#45;&gt;139826826561128 -->\n<g class=\"edge\" id=\"edge2\"><title>139827022443800-&gt;139826826561128</title>\n<path d=\"M107.5,-1606.31C107.5,-1598.29 107.5,-1588.55 107.5,-1579.57\" fill=\"none\" stroke=\"black\"/>\n<polygon fill=\"black\" points=\"111,-1579.53 107.5,-1569.53 104,-1579.53 111,-1579.53\" stroke=\"black\"/>\n</g>\n<!-- 139826826563536 -->\n<g class=\"node\" id=\"node4\"><title>139826826563536</title>\n<polygon fill=\"none\" points=\"0,-1460.5 0,-1496.5 215,-1496.5 215,-1460.5 0,-1460.5\" stroke=\"black\"/>\n<text font-family=\"Times,serif\" font-size=\"14.00\" text-anchor=\"middle\" x=\"107.5\" y=\"-1474.8\">block1_pool: MaxPooling2D</text>\n</g>\n<!-- 139826826561128&#45;&gt;139826826563536 -->\n<g class=\"edge\" id=\"edge3\"><title>139826826561128-&gt;139826826563536</title>\n<path d=\"M107.5,-1533.31C107.5,-1525.29 107.5,-1515.55 107.5,-1506.57\" fill=\"none\" stroke=\"black\"/>\n<polygon fill=\"black\" points=\"111,-1506.53 107.5,-1496.53 104,-1506.53 111,-1506.53\" stroke=\"black\"/>\n</g>\n<!-- 139826826237768 -->\n<g class=\"node\" id=\"node5\"><title>139826826237768</title>\n<polygon fill=\"none\" points=\"17,-1387.5 17,-1423.5 198,-1423.5 198,-1387.5 17,-1387.5\" stroke=\"black\"/>\n<text font-family=\"Times,serif\" font-size=\"14.00\" text-anchor=\"middle\" x=\"107.5\" y=\"-1401.8\">block2_conv1: Conv2D</text>\n</g>\n<!-- 139826826563536&#45;&gt;139826826237768 -->\n<g class=\"edge\" id=\"edge4\"><title>139826826563536-&gt;139826826237768</title>\n<path d=\"M107.5,-1460.31C107.5,-1452.29 107.5,-1442.55 107.5,-1433.57\" fill=\"none\" stroke=\"black\"/>\n<polygon fill=\"black\" points=\"111,-1433.53 107.5,-1423.53 104,-1433.53 111,-1433.53\" stroke=\"black\"/>\n</g>\n<!-- 139826826342016 -->\n<g class=\"node\" id=\"node6\"><title>139826826342016</title>\n<polygon fill=\"none\" points=\"17,-1314.5 17,-1350.5 198,-1350.5 198,-1314.5 17,-1314.5\" stroke=\"black\"/>\n<text font-family=\"Times,serif\" font-size=\"14.00\" text-anchor=\"middle\" x=\"107.5\" y=\"-1328.8\">block2_conv2: Conv2D</text>\n</g>\n<!-- 139826826237768&#45;&gt;139826826342016 -->\n<g class=\"edge\" id=\"edge5\"><title>139826826237768-&gt;139826826342016</title>\n<path d=\"M107.5,-1387.31C107.5,-1379.29 107.5,-1369.55 107.5,-1360.57\" fill=\"none\" stroke=\"black\"/>\n<polygon fill=\"black\" points=\"111,-1360.53 107.5,-1350.53 104,-1360.53 111,-1360.53\" stroke=\"black\"/>\n</g>\n<!-- 139826826005752 -->\n<g class=\"node\" id=\"node7\"><title>139826826005752</title>\n<polygon fill=\"none\" points=\"0,-1241.5 0,-1277.5 215,-1277.5 215,-1241.5 0,-1241.5\" stroke=\"black\"/>\n<text font-family=\"Times,serif\" font-size=\"14.00\" text-anchor=\"middle\" x=\"107.5\" y=\"-1255.8\">block2_pool: MaxPooling2D</text>\n</g>\n<!-- 139826826342016&#45;&gt;139826826005752 -->\n<g class=\"edge\" id=\"edge6\"><title>139826826342016-&gt;139826826005752</title>\n<path d=\"M107.5,-1314.31C107.5,-1306.29 107.5,-1296.55 107.5,-1287.57\" fill=\"none\" stroke=\"black\"/>\n<polygon fill=\"black\" points=\"111,-1287.53 107.5,-1277.53 104,-1287.53 111,-1287.53\" stroke=\"black\"/>\n</g>\n<!-- 139826826085824 -->\n<g class=\"node\" id=\"node8\"><title>139826826085824</title>\n<polygon fill=\"none\" points=\"17,-1168.5 17,-1204.5 198,-1204.5 198,-1168.5 17,-1168.5\" stroke=\"black\"/>\n<text font-family=\"Times,serif\" font-size=\"14.00\" text-anchor=\"middle\" x=\"107.5\" y=\"-1182.8\">block3_conv1: Conv2D</text>\n</g>\n<!-- 139826826005752&#45;&gt;139826826085824 -->\n<g class=\"edge\" id=\"edge7\"><title>139826826005752-&gt;139826826085824</title>\n<path d=\"M107.5,-1241.31C107.5,-1233.29 107.5,-1223.55 107.5,-1214.57\" fill=\"none\" stroke=\"black\"/>\n<polygon fill=\"black\" points=\"111,-1214.53 107.5,-1204.53 104,-1214.53 111,-1214.53\" stroke=\"black\"/>\n</g>\n<!-- 139826825641544 -->\n<g class=\"node\" id=\"node9\"><title>139826825641544</title>\n<polygon fill=\"none\" points=\"17,-1095.5 17,-1131.5 198,-1131.5 198,-1095.5 17,-1095.5\" stroke=\"black\"/>\n<text font-family=\"Times,serif\" font-size=\"14.00\" text-anchor=\"middle\" x=\"107.5\" y=\"-1109.8\">block3_conv2: Conv2D</text>\n</g>\n<!-- 139826826085824&#45;&gt;139826825641544 -->\n<g class=\"edge\" id=\"edge8\"><title>139826826085824-&gt;139826825641544</title>\n<path d=\"M107.5,-1168.31C107.5,-1160.29 107.5,-1150.55 107.5,-1141.57\" fill=\"none\" stroke=\"black\"/>\n<polygon fill=\"black\" points=\"111,-1141.53 107.5,-1131.53 104,-1141.53 111,-1141.53\" stroke=\"black\"/>\n</g>\n<!-- 139826825368800 -->\n<g class=\"node\" id=\"node10\"><title>139826825368800</title>\n<polygon fill=\"none\" points=\"17,-1022.5 17,-1058.5 198,-1058.5 198,-1022.5 17,-1022.5\" stroke=\"black\"/>\n<text font-family=\"Times,serif\" font-size=\"14.00\" text-anchor=\"middle\" x=\"107.5\" y=\"-1036.8\">block3_conv3: Conv2D</text>\n</g>\n<!-- 139826825641544&#45;&gt;139826825368800 -->\n<g class=\"edge\" id=\"edge9\"><title>139826825641544-&gt;139826825368800</title>\n<path d=\"M107.5,-1095.31C107.5,-1087.29 107.5,-1077.55 107.5,-1068.57\" fill=\"none\" stroke=\"black\"/>\n<polygon fill=\"black\" points=\"111,-1068.53 107.5,-1058.53 104,-1068.53 111,-1068.53\" stroke=\"black\"/>\n</g>\n<!-- 139826825820536 -->\n<g class=\"node\" id=\"node11\"><title>139826825820536</title>\n<polygon fill=\"none\" points=\"17,-949.5 17,-985.5 198,-985.5 198,-949.5 17,-949.5\" stroke=\"black\"/>\n<text font-family=\"Times,serif\" font-size=\"14.00\" text-anchor=\"middle\" x=\"107.5\" y=\"-963.8\">block3_conv4: Conv2D</text>\n</g>\n<!-- 139826825368800&#45;&gt;139826825820536 -->\n<g class=\"edge\" id=\"edge10\"><title>139826825368800-&gt;139826825820536</title>\n<path d=\"M107.5,-1022.31C107.5,-1014.29 107.5,-1004.55 107.5,-995.569\" fill=\"none\" stroke=\"black\"/>\n<polygon fill=\"black\" points=\"111,-995.529 107.5,-985.529 104,-995.529 111,-995.529\" stroke=\"black\"/>\n</g>\n<!-- 139826825459248 -->\n<g class=\"node\" id=\"node12\"><title>139826825459248</title>\n<polygon fill=\"none\" points=\"0,-876.5 0,-912.5 215,-912.5 215,-876.5 0,-876.5\" stroke=\"black\"/>\n<text font-family=\"Times,serif\" font-size=\"14.00\" text-anchor=\"middle\" x=\"107.5\" y=\"-890.8\">block3_pool: MaxPooling2D</text>\n</g>\n<!-- 139826825820536&#45;&gt;139826825459248 -->\n<g class=\"edge\" id=\"edge11\"><title>139826825820536-&gt;139826825459248</title>\n<path d=\"M107.5,-949.313C107.5,-941.289 107.5,-931.547 107.5,-922.569\" fill=\"none\" stroke=\"black\"/>\n<polygon fill=\"black\" points=\"111,-922.529 107.5,-912.529 104,-922.529 111,-922.529\" stroke=\"black\"/>\n</g>\n<!-- 139826825184760 -->\n<g class=\"node\" id=\"node13\"><title>139826825184760</title>\n<polygon fill=\"none\" points=\"17,-803.5 17,-839.5 198,-839.5 198,-803.5 17,-803.5\" stroke=\"black\"/>\n<text font-family=\"Times,serif\" font-size=\"14.00\" text-anchor=\"middle\" x=\"107.5\" y=\"-817.8\">block4_conv1: Conv2D</text>\n</g>\n<!-- 139826825459248&#45;&gt;139826825184760 -->\n<g class=\"edge\" id=\"edge12\"><title>139826825459248-&gt;139826825184760</title>\n<path d=\"M107.5,-876.313C107.5,-868.289 107.5,-858.547 107.5,-849.569\" fill=\"none\" stroke=\"black\"/>\n<polygon fill=\"black\" points=\"111,-849.529 107.5,-839.529 104,-849.529 111,-849.529\" stroke=\"black\"/>\n</g>\n<!-- 139826825187000 -->\n<g class=\"node\" id=\"node14\"><title>139826825187000</title>\n<polygon fill=\"none\" points=\"17,-730.5 17,-766.5 198,-766.5 198,-730.5 17,-730.5\" stroke=\"black\"/>\n<text font-family=\"Times,serif\" font-size=\"14.00\" text-anchor=\"middle\" x=\"107.5\" y=\"-744.8\">block4_conv2: Conv2D</text>\n</g>\n<!-- 139826825184760&#45;&gt;139826825187000 -->\n<g class=\"edge\" id=\"edge13\"><title>139826825184760-&gt;139826825187000</title>\n<path d=\"M107.5,-803.313C107.5,-795.289 107.5,-785.547 107.5,-776.569\" fill=\"none\" stroke=\"black\"/>\n<polygon fill=\"black\" points=\"111,-776.529 107.5,-766.529 104,-776.529 111,-776.529\" stroke=\"black\"/>\n</g>\n<!-- 139826825357856 -->\n<g class=\"node\" id=\"node15\"><title>139826825357856</title>\n<polygon fill=\"none\" points=\"17,-657.5 17,-693.5 198,-693.5 198,-657.5 17,-657.5\" stroke=\"black\"/>\n<text font-family=\"Times,serif\" font-size=\"14.00\" text-anchor=\"middle\" x=\"107.5\" y=\"-671.8\">block4_conv3: Conv2D</text>\n</g>\n<!-- 139826825187000&#45;&gt;139826825357856 -->\n<g class=\"edge\" id=\"edge14\"><title>139826825187000-&gt;139826825357856</title>\n<path d=\"M107.5,-730.313C107.5,-722.289 107.5,-712.547 107.5,-703.569\" fill=\"none\" stroke=\"black\"/>\n<polygon fill=\"black\" points=\"111,-703.529 107.5,-693.529 104,-703.529 111,-703.529\" stroke=\"black\"/>\n</g>\n<!-- 139826824932040 -->\n<g class=\"node\" id=\"node16\"><title>139826824932040</title>\n<polygon fill=\"none\" points=\"17,-584.5 17,-620.5 198,-620.5 198,-584.5 17,-584.5\" stroke=\"black\"/>\n<text font-family=\"Times,serif\" font-size=\"14.00\" text-anchor=\"middle\" x=\"107.5\" y=\"-598.8\">block4_conv4: Conv2D</text>\n</g>\n<!-- 139826825357856&#45;&gt;139826824932040 -->\n<g class=\"edge\" id=\"edge15\"><title>139826825357856-&gt;139826824932040</title>\n<path d=\"M107.5,-657.313C107.5,-649.289 107.5,-639.547 107.5,-630.569\" fill=\"none\" stroke=\"black\"/>\n<polygon fill=\"black\" points=\"111,-630.529 107.5,-620.529 104,-630.529 111,-630.529\" stroke=\"black\"/>\n</g>\n<!-- 139826825090440 -->\n<g class=\"node\" id=\"node17\"><title>139826825090440</title>\n<polygon fill=\"none\" points=\"0,-511.5 0,-547.5 215,-547.5 215,-511.5 0,-511.5\" stroke=\"black\"/>\n<text font-family=\"Times,serif\" font-size=\"14.00\" text-anchor=\"middle\" x=\"107.5\" y=\"-525.8\">block4_pool: MaxPooling2D</text>\n</g>\n<!-- 139826824932040&#45;&gt;139826825090440 -->\n<g class=\"edge\" id=\"edge16\"><title>139826824932040-&gt;139826825090440</title>\n<path d=\"M107.5,-584.313C107.5,-576.289 107.5,-566.547 107.5,-557.569\" fill=\"none\" stroke=\"black\"/>\n<polygon fill=\"black\" points=\"111,-557.529 107.5,-547.529 104,-557.529 111,-557.529\" stroke=\"black\"/>\n</g>\n<!-- 139826824648016 -->\n<g class=\"node\" id=\"node18\"><title>139826824648016</title>\n<polygon fill=\"none\" points=\"17,-438.5 17,-474.5 198,-474.5 198,-438.5 17,-438.5\" stroke=\"black\"/>\n<text font-family=\"Times,serif\" font-size=\"14.00\" text-anchor=\"middle\" x=\"107.5\" y=\"-452.8\">block5_conv1: Conv2D</text>\n</g>\n<!-- 139826825090440&#45;&gt;139826824648016 -->\n<g class=\"edge\" id=\"edge17\"><title>139826825090440-&gt;139826824648016</title>\n<path d=\"M107.5,-511.313C107.5,-503.289 107.5,-493.547 107.5,-484.569\" fill=\"none\" stroke=\"black\"/>\n<polygon fill=\"black\" points=\"111,-484.529 107.5,-474.529 104,-484.529 111,-484.529\" stroke=\"black\"/>\n</g>\n<!-- 139826824821056 -->\n<g class=\"node\" id=\"node19\"><title>139826824821056</title>\n<polygon fill=\"none\" points=\"17,-365.5 17,-401.5 198,-401.5 198,-365.5 17,-365.5\" stroke=\"black\"/>\n<text font-family=\"Times,serif\" font-size=\"14.00\" text-anchor=\"middle\" x=\"107.5\" y=\"-379.8\">block5_conv2: Conv2D</text>\n</g>\n<!-- 139826824648016&#45;&gt;139826824821056 -->\n<g class=\"edge\" id=\"edge18\"><title>139826824648016-&gt;139826824821056</title>\n<path d=\"M107.5,-438.313C107.5,-430.289 107.5,-420.547 107.5,-411.569\" fill=\"none\" stroke=\"black\"/>\n<polygon fill=\"black\" points=\"111,-411.529 107.5,-401.529 104,-411.529 111,-411.529\" stroke=\"black\"/>\n</g>\n<!-- 139826824388392 -->\n<g class=\"node\" id=\"node20\"><title>139826824388392</title>\n<polygon fill=\"none\" points=\"17,-292.5 17,-328.5 198,-328.5 198,-292.5 17,-292.5\" stroke=\"black\"/>\n<text font-family=\"Times,serif\" font-size=\"14.00\" text-anchor=\"middle\" x=\"107.5\" y=\"-306.8\">block5_conv3: Conv2D</text>\n</g>\n<!-- 139826824821056&#45;&gt;139826824388392 -->\n<g class=\"edge\" id=\"edge19\"><title>139826824821056-&gt;139826824388392</title>\n<path d=\"M107.5,-365.313C107.5,-357.289 107.5,-347.547 107.5,-338.569\" fill=\"none\" stroke=\"black\"/>\n<polygon fill=\"black\" points=\"111,-338.529 107.5,-328.529 104,-338.529 111,-338.529\" stroke=\"black\"/>\n</g>\n<!-- 139826824467904 -->\n<g class=\"node\" id=\"node21\"><title>139826824467904</title>\n<polygon fill=\"none\" points=\"17,-219.5 17,-255.5 198,-255.5 198,-219.5 17,-219.5\" stroke=\"black\"/>\n<text font-family=\"Times,serif\" font-size=\"14.00\" text-anchor=\"middle\" x=\"107.5\" y=\"-233.8\">block5_conv4: Conv2D</text>\n</g>\n<!-- 139826824388392&#45;&gt;139826824467904 -->\n<g class=\"edge\" id=\"edge20\"><title>139826824388392-&gt;139826824467904</title>\n<path d=\"M107.5,-292.313C107.5,-284.289 107.5,-274.547 107.5,-265.569\" fill=\"none\" stroke=\"black\"/>\n<polygon fill=\"black\" points=\"111,-265.529 107.5,-255.529 104,-265.529 111,-265.529\" stroke=\"black\"/>\n</g>\n<!-- 139826824191952 -->\n<g class=\"node\" id=\"node22\"><title>139826824191952</title>\n<polygon fill=\"none\" points=\"0,-146.5 0,-182.5 215,-182.5 215,-146.5 0,-146.5\" stroke=\"black\"/>\n<text font-family=\"Times,serif\" font-size=\"14.00\" text-anchor=\"middle\" x=\"107.5\" y=\"-160.8\">block5_pool: MaxPooling2D</text>\n</g>\n<!-- 139826824467904&#45;&gt;139826824191952 -->\n<g class=\"edge\" id=\"edge21\"><title>139826824467904-&gt;139826824191952</title>\n<path d=\"M107.5,-219.313C107.5,-211.289 107.5,-201.547 107.5,-192.569\" fill=\"none\" stroke=\"black\"/>\n<polygon fill=\"black\" points=\"111,-192.529 107.5,-182.529 104,-192.529 111,-192.529\" stroke=\"black\"/>\n</g>\n<!-- 139826824296376 -->\n<g class=\"node\" id=\"node23\"><title>139826824296376</title>\n<polygon fill=\"none\" points=\"45,-73.5 45,-109.5 170,-109.5 170,-73.5 45,-73.5\" stroke=\"black\"/>\n<text font-family=\"Times,serif\" font-size=\"14.00\" text-anchor=\"middle\" x=\"107.5\" y=\"-87.8\">flatten: Flatten</text>\n</g>\n<!-- 139826824191952&#45;&gt;139826824296376 -->\n<g class=\"edge\" id=\"edge22\"><title>139826824191952-&gt;139826824296376</title>\n<path d=\"M107.5,-146.313C107.5,-138.289 107.5,-128.547 107.5,-119.569\" fill=\"none\" stroke=\"black\"/>\n<polygon fill=\"black\" points=\"111,-119.529 107.5,-109.529 104,-119.529 111,-119.529\" stroke=\"black\"/>\n</g>\n<!-- 139826823863824 -->\n<g class=\"node\" id=\"node24\"><title>139826823863824</title>\n<polygon fill=\"none\" points=\"61.5,-0.5 61.5,-36.5 153.5,-36.5 153.5,-0.5 61.5,-0.5\" stroke=\"black\"/>\n<text font-family=\"Times,serif\" font-size=\"14.00\" text-anchor=\"middle\" x=\"107.5\" y=\"-14.8\">fc1: Dense</text>\n</g>\n<!-- 139826824296376&#45;&gt;139826823863824 -->\n<g class=\"edge\" id=\"edge23\"><title>139826824296376-&gt;139826823863824</title>\n<path d=\"M107.5,-73.3129C107.5,-65.2895 107.5,-55.5475 107.5,-46.5691\" fill=\"none\" stroke=\"black\"/>\n<polygon fill=\"black\" points=\"111,-46.5288 107.5,-36.5288 104,-46.5289 111,-46.5288\" stroke=\"black\"/>\n</g>\n</g>\n</svg>"
          },
          "metadata": {
            "tags": []
          },
          "execution_count": 18
        }
      ]
    },
    {
      "metadata": {
        "id": "cRRhRnN0oSoq",
        "colab_type": "code",
        "colab": {
          "autoexec": {
            "startup": false,
            "wait_interval": 0
          },
          "base_uri": "https://localhost:8080/",
          "height": 276
        },
        "outputId": "6b69dc50-1ff5-4c45-9e5c-6c1cf43cf84b",
        "executionInfo": {
          "status": "ok",
          "timestamp": 1524053906273,
          "user_tz": -330,
          "elapsed": 1178,
          "user": {
            "displayName": "Ajith",
            "photoUrl": "//lh3.googleusercontent.com/-rmoCOltBBco/AAAAAAAAAAI/AAAAAAAAAvY/hCwpnR_j61g/s50-c-k-no/photo.jpg",
            "userId": "116572676147837248204"
          }
        }
      },
      "cell_type": "code",
      "source": [
        "#after addition of dense1 layer for softmax prediction(model+softmax) \n",
        "#(extracted layer+ softmax)--->predictions\n",
        "SVG(model_to_dot(model2).create(prog='dot',format='svg'))"
      ],
      "execution_count": 19,
      "outputs": [
        {
          "output_type": "execute_result",
          "data": {
            "text/plain": [
              "<IPython.core.display.SVG object>"
            ],
            "image/svg+xml": "<svg height=\"191pt\" viewBox=\"0.00 0.00 219.00 191.00\" width=\"219pt\" xmlns=\"http://www.w3.org/2000/svg\" xmlns:xlink=\"http://www.w3.org/1999/xlink\">\n<g class=\"graph\" id=\"graph0\" transform=\"scale(1 1) rotate(0) translate(4 187)\">\n<title>G</title>\n<polygon fill=\"white\" points=\"-4,4 -4,-187 215,-187 215,4 -4,4\" stroke=\"none\"/>\n<!-- 139826823494680 -->\n<g class=\"node\" id=\"node1\"><title>139826823494680</title>\n<polygon fill=\"none\" points=\"0,-146.5 0,-182.5 211,-182.5 211,-146.5 0,-146.5\" stroke=\"black\"/>\n<text font-family=\"Times,serif\" font-size=\"14.00\" text-anchor=\"middle\" x=\"105.5\" y=\"-160.8\">model_1_input: InputLayer</text>\n</g>\n<!-- 139826826560568 -->\n<g class=\"node\" id=\"node2\"><title>139826826560568</title>\n<polygon fill=\"none\" points=\"40.5,-73.5 40.5,-109.5 170.5,-109.5 170.5,-73.5 40.5,-73.5\" stroke=\"black\"/>\n<text font-family=\"Times,serif\" font-size=\"14.00\" text-anchor=\"middle\" x=\"105.5\" y=\"-87.8\">model_1: Model</text>\n</g>\n<!-- 139826823494680&#45;&gt;139826826560568 -->\n<g class=\"edge\" id=\"edge1\"><title>139826823494680-&gt;139826826560568</title>\n<path d=\"M105.5,-146.313C105.5,-138.289 105.5,-128.547 105.5,-119.569\" fill=\"none\" stroke=\"black\"/>\n<polygon fill=\"black\" points=\"109,-119.529 105.5,-109.529 102,-119.529 109,-119.529\" stroke=\"black\"/>\n</g>\n<!-- 139826796183336 -->\n<g class=\"node\" id=\"node3\"><title>139826796183336</title>\n<polygon fill=\"none\" points=\"41.5,-0.5 41.5,-36.5 169.5,-36.5 169.5,-0.5 41.5,-0.5\" stroke=\"black\"/>\n<text font-family=\"Times,serif\" font-size=\"14.00\" text-anchor=\"middle\" x=\"105.5\" y=\"-14.8\">dense_1: Dense</text>\n</g>\n<!-- 139826826560568&#45;&gt;139826796183336 -->\n<g class=\"edge\" id=\"edge2\"><title>139826826560568-&gt;139826796183336</title>\n<path d=\"M105.5,-73.3129C105.5,-65.2895 105.5,-55.5475 105.5,-46.5691\" fill=\"none\" stroke=\"black\"/>\n<polygon fill=\"black\" points=\"109,-46.5288 105.5,-36.5288 102,-46.5289 109,-46.5288\" stroke=\"black\"/>\n</g>\n</g>\n</svg>"
          },
          "metadata": {
            "tags": []
          },
          "execution_count": 19
        }
      ]
    },
    {
      "metadata": {
        "id": "nSISgUkIqWlq",
        "colab_type": "code",
        "colab": {
          "autoexec": {
            "startup": false,
            "wait_interval": 0
          },
          "base_uri": "https://localhost:8080/",
          "height": 204
        },
        "outputId": "8f7457b3-a749-4f94-f859-10e4fed100be",
        "executionInfo": {
          "status": "ok",
          "timestamp": 1524053950078,
          "user_tz": -330,
          "elapsed": 1244,
          "user": {
            "displayName": "Ajith",
            "photoUrl": "//lh3.googleusercontent.com/-rmoCOltBBco/AAAAAAAAAAI/AAAAAAAAAvY/hCwpnR_j61g/s50-c-k-no/photo.jpg",
            "userId": "116572676147837248204"
          }
        }
      },
      "cell_type": "code",
      "source": [
        "#you can use model.summary() function to visualize models in text wise manner along with parameters\n",
        "#model.summary()\n",
        "#base_model.summary() \n",
        "model2.summary()"
      ],
      "execution_count": 21,
      "outputs": [
        {
          "output_type": "stream",
          "text": [
            "_________________________________________________________________\n",
            "Layer (type)                 Output Shape              Param #   \n",
            "=================================================================\n",
            "model_1 (Model)              (None, 4096)              122788928 \n",
            "_________________________________________________________________\n",
            "dense_1 (Dense)              (None, 1000)              4097000   \n",
            "=================================================================\n",
            "Total params: 126,885,928\n",
            "Trainable params: 126,885,928\n",
            "Non-trainable params: 0\n",
            "_________________________________________________________________\n"
          ],
          "name": "stdout"
        }
      ]
    }
  ]
}